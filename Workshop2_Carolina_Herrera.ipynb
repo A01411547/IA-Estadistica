{
  "nbformat": 4,
  "nbformat_minor": 0,
  "metadata": {
    "colab": {
      "name": "Workshop2 Carolina Herrera.ipynb",
      "provenance": []
    },
    "kernelspec": {
      "name": "python3",
      "display_name": "Python 3"
    },
    "language_info": {
      "name": "python"
    }
  },
  "cells": [
    {
      "cell_type": "code",
      "execution_count": 3,
      "metadata": {
        "colab": {
          "base_uri": "https://localhost:8080/"
        },
        "id": "X1InkwsOs_ZW",
        "outputId": "555c2eb9-6122-4bd0-d3e3-e918adcd3977"
      },
      "outputs": [
        {
          "output_type": "stream",
          "name": "stdout",
          "text": [
            "Looking in indexes: https://pypi.org/simple, https://us-python.pkg.dev/colab-wheels/public/simple/\n",
            "Requirement already satisfied: pandas in /usr/local/lib/python3.7/dist-packages (1.3.5)\n",
            "Requirement already satisfied: numpy>=1.17.3 in /usr/local/lib/python3.7/dist-packages (from pandas) (1.21.6)\n",
            "Requirement already satisfied: python-dateutil>=2.7.3 in /usr/local/lib/python3.7/dist-packages (from pandas) (2.8.2)\n",
            "Requirement already satisfied: pytz>=2017.3 in /usr/local/lib/python3.7/dist-packages (from pandas) (2022.1)\n",
            "Requirement already satisfied: six>=1.5 in /usr/local/lib/python3.7/dist-packages (from python-dateutil>=2.7.3->pandas) (1.15.0)\n",
            "Looking in indexes: https://pypi.org/simple, https://us-python.pkg.dev/colab-wheels/public/simple/\n",
            "Collecting symbulate\n",
            "  Downloading symbulate-0.5.7-py3-none-any.whl (44 kB)\n",
            "\u001b[K     |████████████████████████████████| 44 kB 2.6 MB/s \n",
            "\u001b[?25hRequirement already satisfied: matplotlib in /usr/local/lib/python3.7/dist-packages (from symbulate) (3.2.2)\n",
            "Requirement already satisfied: numpy in /usr/local/lib/python3.7/dist-packages (from symbulate) (1.21.6)\n",
            "Requirement already satisfied: scipy in /usr/local/lib/python3.7/dist-packages (from symbulate) (1.7.3)\n",
            "Requirement already satisfied: python-dateutil>=2.1 in /usr/local/lib/python3.7/dist-packages (from matplotlib->symbulate) (2.8.2)\n",
            "Requirement already satisfied: kiwisolver>=1.0.1 in /usr/local/lib/python3.7/dist-packages (from matplotlib->symbulate) (1.4.4)\n",
            "Requirement already satisfied: pyparsing!=2.0.4,!=2.1.2,!=2.1.6,>=2.0.1 in /usr/local/lib/python3.7/dist-packages (from matplotlib->symbulate) (3.0.9)\n",
            "Requirement already satisfied: cycler>=0.10 in /usr/local/lib/python3.7/dist-packages (from matplotlib->symbulate) (0.11.0)\n",
            "Requirement already satisfied: typing-extensions in /usr/local/lib/python3.7/dist-packages (from kiwisolver>=1.0.1->matplotlib->symbulate) (4.1.1)\n",
            "Requirement already satisfied: six>=1.5 in /usr/local/lib/python3.7/dist-packages (from python-dateutil>=2.1->matplotlib->symbulate) (1.15.0)\n",
            "Installing collected packages: symbulate\n",
            "Successfully installed symbulate-0.5.7\n",
            "Looking in indexes: https://pypi.org/simple, https://us-python.pkg.dev/colab-wheels/public/simple/\n",
            "Requirement already satisfied: pandas-datareader in /usr/local/lib/python3.7/dist-packages (0.9.0)\n",
            "Collecting pandas-datareader\n",
            "  Downloading pandas_datareader-0.10.0-py3-none-any.whl (109 kB)\n",
            "\u001b[K     |████████████████████████████████| 109 kB 7.0 MB/s \n",
            "\u001b[?25hRequirement already satisfied: pandas>=0.23 in /usr/local/lib/python3.7/dist-packages (from pandas-datareader) (1.3.5)\n",
            "Requirement already satisfied: requests>=2.19.0 in /usr/local/lib/python3.7/dist-packages (from pandas-datareader) (2.23.0)\n",
            "Requirement already satisfied: lxml in /usr/local/lib/python3.7/dist-packages (from pandas-datareader) (4.9.1)\n",
            "Requirement already satisfied: pytz>=2017.3 in /usr/local/lib/python3.7/dist-packages (from pandas>=0.23->pandas-datareader) (2022.1)\n",
            "Requirement already satisfied: python-dateutil>=2.7.3 in /usr/local/lib/python3.7/dist-packages (from pandas>=0.23->pandas-datareader) (2.8.2)\n",
            "Requirement already satisfied: numpy>=1.17.3 in /usr/local/lib/python3.7/dist-packages (from pandas>=0.23->pandas-datareader) (1.21.6)\n",
            "Requirement already satisfied: six>=1.5 in /usr/local/lib/python3.7/dist-packages (from python-dateutil>=2.7.3->pandas>=0.23->pandas-datareader) (1.15.0)\n",
            "Requirement already satisfied: idna<3,>=2.5 in /usr/local/lib/python3.7/dist-packages (from requests>=2.19.0->pandas-datareader) (2.10)\n",
            "Requirement already satisfied: chardet<4,>=3.0.2 in /usr/local/lib/python3.7/dist-packages (from requests>=2.19.0->pandas-datareader) (3.0.4)\n",
            "Requirement already satisfied: urllib3!=1.25.0,!=1.25.1,<1.26,>=1.21.1 in /usr/local/lib/python3.7/dist-packages (from requests>=2.19.0->pandas-datareader) (1.24.3)\n",
            "Requirement already satisfied: certifi>=2017.4.17 in /usr/local/lib/python3.7/dist-packages (from requests>=2.19.0->pandas-datareader) (2022.6.15)\n",
            "Installing collected packages: pandas-datareader\n",
            "  Attempting uninstall: pandas-datareader\n",
            "    Found existing installation: pandas-datareader 0.9.0\n",
            "    Uninstalling pandas-datareader-0.9.0:\n",
            "      Successfully uninstalled pandas-datareader-0.9.0\n",
            "Successfully installed pandas-datareader-0.10.0\n"
          ]
        }
      ],
      "source": [
        "!pip install --upgrade pandas\n",
        "!pip install symbulate\n",
        "!pip install --upgrade pandas-datareader\n",
        "import numpy as np\n",
        "import pandas as pd\n",
        "import pandas_datareader as pdr\n",
        "\n"
      ]
    },
    {
      "cell_type": "code",
      "source": [
        "from symbulate import *\n",
        "#'exec(%matplotlib inline)' \n",
        "import matplotlib\n",
        "\n",
        "import matplotlib.pyplot as plt"
      ],
      "metadata": {
        "id": "Oquz-PnetDYz"
      },
      "execution_count": 4,
      "outputs": []
    },
    {
      "cell_type": "code",
      "source": [
        "# clear the plot space:\n",
        "plt.clf()\n",
        "# Define the probability type of function as uniform (probability space)\n",
        "P = Uniform(0,40)\n",
        "# Define X as a random variable of the type P (uniform)\n",
        "X =RV(P)\n",
        "# Simulate the values of X and save the in the x array: \n",
        "x=X.sim(10000)\n",
        "x.plot()\n",
        "plt.show()"
      ],
      "metadata": {
        "colab": {
          "base_uri": "https://localhost:8080/",
          "height": 265
        },
        "id": "ouey9TbWtGDu",
        "outputId": "ab18d832-3e52-4cb6-d196-bb0ca75ad640"
      },
      "execution_count": 5,
      "outputs": [
        {
          "output_type": "display_data",
          "data": {
            "text/plain": [
              "<Figure size 432x288 with 1 Axes>"
            ],
            "image/png": "[encoded data removed]"
          },
          "metadata": {
            "needs_background": "light"
          }
        }
      ]
    },
    {
      "cell_type": "code",
      "source": [
        "print(x.std())\n",
        "print(x.mean())"
      ],
      "metadata": {
        "colab": {
          "base_uri": "https://localhost:8080/"
        },
        "id": "0DH31yqD07JN",
        "outputId": "44e4626c-032b-453c-9f56-ad4ec9928777"
      },
      "execution_count": 6,
      "outputs": [
        {
          "output_type": "stream",
          "name": "stdout",
          "text": [
            "11.555290516390357\n",
            "20.140239701315334\n"
          ]
        }
      ]
    },
    {
      "cell_type": "markdown",
      "source": [
        "WHAT I CAN SEE IN THE HISTOGRAM IS THAT IT WOULD HAVE A BIG PROBABILITY TO HAVE THE SAME OF NUMBERS BECAUSE IT HAVE A UNIFORM DISTRIBUTION."
      ],
      "metadata": {
        "id": "wxO-xXyD0uvV"
      }
    },
    {
      "cell_type": "code",
      "source": [
        "# Define the probability space as a vector of 25 uniform random numbers:\n",
        "P = Uniform(0,40) ** 25\n",
        "# Define XVECTOR as a vector of random variables with 25 random values \n",
        "XVECTOR =RV(P)\n",
        "# Simulate 10,000 vectors to get a matrix  \n",
        "xmatrix=XVECTOR.sim(10000)"
      ],
      "metadata": {
        "id": "CIx-R8ZftIDf"
      },
      "execution_count": 7,
      "outputs": []
    },
    {
      "cell_type": "code",
      "source": [
        "xmatrix"
      ],
      "metadata": {
        "colab": {
          "base_uri": "https://localhost:8080/",
          "height": 270
        },
        "id": "IJFdPMs4tKcR",
        "outputId": "cfe0f270-6e5e-409b-a25e-8d1a6e64ecc1"
      },
      "execution_count": 8,
      "outputs": [
        {
          "output_type": "execute_result",
          "data": {
            "text/plain": [
              "Index Result\n",
              "0     (32.98110555641719, 3.427909715934021, 1.6517306497671846, 36.54403106324735, 19.773425657719706, ..., 32.19744708592933)\n",
              "1     (5.681128368849535, 34.786517707165125, 6.74087146360979, 15.658139611309622, 37.1288029063046, ..., 21.715119021462954)\n",
              "2     (5.911872582915101, 6.531685724542831, 10.17855281098953, 22.635838195062654, 2.172913841852595, ..., 18.973505780663913)\n",
              "3     (38.92411727101801, 24.350624289594286, 13.223647351680018, 39.26090223316504, 29.39575727868158, ..., 26.694247247857874)\n",
              "4     (21.67756850754119, 26.173467399886402, 2.96455314193111, 34.57571313209495, 39.034110503856844, ..., 20.897515068980454)\n",
              "5     (13.468695488140732, 29.30661298826331, 10.639543557592162, 25.113798769675377, 27.834090247572387, ..., 1.5150391261542007)\n",
              "6     (37.071827017421064, 16.745957075331365, 31.61348617828191, 2.7932638251267727, 7.26836670709023, ..., 33.98694089016789)\n",
              "7     (5.8137414579948965, 22.93824607216233, 31.225754760203376, 35.272847327594924, 7.523167348197584, ..., 11.77218289989709)\n",
              "8     (5.504145033919854, 3.8563862446315067, 37.256386779868, 36.64519931498657, 39.41667705903635, ..., 15.063128916053486)\n",
              "....  ...........................................................................................................................\n",
              "9999  (7.851820425378979, 17.911593031610494, 4.473986703699242, 17.899187037357045, 25.259939692721026, ..., 13.965758526634765)"
            ],
            "text/html": [
              "\n",
              "    <table>\n",
              "      <thead>\n",
              "        <th width=\"10%\">Index</th>\n",
              "        <th width=\"90%\">Result</th>\n",
              "      </thead>\n",
              "      <tbody>\n",
              "        \n",
              "        <tr>\n",
              "          <td>0</td><td>(32.98110555641719, 3.427909715934021, 1.6517306497671846, 36.54403106324735, 19.773425657719706, .....</td>\n",
              "        </tr>\n",
              "        \n",
              "        <tr>\n",
              "          <td>1</td><td>(5.681128368849535, 34.786517707165125, 6.74087146360979, 15.658139611309622, 37.1288029063046, ...,...</td>\n",
              "        </tr>\n",
              "        \n",
              "        <tr>\n",
              "          <td>2</td><td>(5.911872582915101, 6.531685724542831, 10.17855281098953, 22.635838195062654, 2.172913841852595, ......</td>\n",
              "        </tr>\n",
              "        \n",
              "        <tr>\n",
              "          <td>3</td><td>(38.92411727101801, 24.350624289594286, 13.223647351680018, 39.26090223316504, 29.39575727868158, .....</td>\n",
              "        </tr>\n",
              "        \n",
              "        <tr>\n",
              "          <td>4</td><td>(21.67756850754119, 26.173467399886402, 2.96455314193111, 34.57571313209495, 39.034110503856844, ......</td>\n",
              "        </tr>\n",
              "        \n",
              "        <tr>\n",
              "          <td>5</td><td>(13.468695488140732, 29.30661298826331, 10.639543557592162, 25.113798769675377, 27.834090247572387, ...</td>\n",
              "        </tr>\n",
              "        \n",
              "        <tr>\n",
              "          <td>6</td><td>(37.071827017421064, 16.745957075331365, 31.61348617828191, 2.7932638251267727, 7.26836670709023, .....</td>\n",
              "        </tr>\n",
              "        \n",
              "        <tr>\n",
              "          <td>7</td><td>(5.8137414579948965, 22.93824607216233, 31.225754760203376, 35.272847327594924, 7.523167348197584, ....</td>\n",
              "        </tr>\n",
              "        \n",
              "        <tr>\n",
              "          <td>8</td><td>(5.504145033919854, 3.8563862446315067, 37.256386779868, 36.64519931498657, 39.41667705903635, ..., ...</td>\n",
              "        </tr>\n",
              "        <tr><td>...</td><td>...</td></tr>\n",
              "        <tr>\n",
              "          <td>9999</td><td>(7.851820425378979, 17.911593031610494, 4.473986703699242, 17.899187037357045, 25.259939692721026, ....</td>\n",
              "        </tr>\n",
              "        \n",
              "      </tbody>\n",
              "    </table>\n",
              "        "
            ]
          },
          "metadata": {},
          "execution_count": 8
        }
      ]
    },
    {
      "cell_type": "code",
      "source": [
        "# The 2nd parameter is the mathematical operation applied to each row of the random vector\n",
        "# Simulate 10,000 means of each random vector of 25 uniform distributed numbers: \n",
        "xmean = RV(P,mean).sim(10000)\n",
        "xmean"
      ],
      "metadata": {
        "colab": {
          "base_uri": "https://localhost:8080/",
          "height": 270
        },
        "id": "XfUhaEWGtMTJ",
        "outputId": "526cbbfc-d098-484d-83dc-cf12e97e99f0"
      },
      "execution_count": 9,
      "outputs": [
        {
          "output_type": "execute_result",
          "data": {
            "text/plain": [
              "Index Result\n",
              "0     22.548110204668504\n",
              "1     19.491195974335007\n",
              "2     18.94578004706498\n",
              "3     14.949565399748487\n",
              "4     19.50194361016425\n",
              "5     19.26425287938866\n",
              "6     23.162419931796567\n",
              "7     23.389897776363995\n",
              "8     19.961109269413317\n",
              "....  ..................\n",
              "9999  18.599746603982226"
            ],
            "text/html": [
              "\n",
              "    <table>\n",
              "      <thead>\n",
              "        <th width=\"10%\">Index</th>\n",
              "        <th width=\"90%\">Result</th>\n",
              "      </thead>\n",
              "      <tbody>\n",
              "        \n",
              "        <tr>\n",
              "          <td>0</td><td>22.548110204668504</td>\n",
              "        </tr>\n",
              "        \n",
              "        <tr>\n",
              "          <td>1</td><td>19.491195974335007</td>\n",
              "        </tr>\n",
              "        \n",
              "        <tr>\n",
              "          <td>2</td><td>18.94578004706498</td>\n",
              "        </tr>\n",
              "        \n",
              "        <tr>\n",
              "          <td>3</td><td>14.949565399748487</td>\n",
              "        </tr>\n",
              "        \n",
              "        <tr>\n",
              "          <td>4</td><td>19.50194361016425</td>\n",
              "        </tr>\n",
              "        \n",
              "        <tr>\n",
              "          <td>5</td><td>19.26425287938866</td>\n",
              "        </tr>\n",
              "        \n",
              "        <tr>\n",
              "          <td>6</td><td>23.162419931796567</td>\n",
              "        </tr>\n",
              "        \n",
              "        <tr>\n",
              "          <td>7</td><td>23.389897776363995</td>\n",
              "        </tr>\n",
              "        \n",
              "        <tr>\n",
              "          <td>8</td><td>19.961109269413317</td>\n",
              "        </tr>\n",
              "        <tr><td>...</td><td>...</td></tr>\n",
              "        <tr>\n",
              "          <td>9999</td><td>18.599746603982226</td>\n",
              "        </tr>\n",
              "        \n",
              "      </tbody>\n",
              "    </table>\n",
              "        "
            ]
          },
          "metadata": {},
          "execution_count": 9
        }
      ]
    },
    {
      "cell_type": "code",
      "source": [
        "plt.clf()\n",
        "xmean.plot()\n",
        "plt.show()"
      ],
      "metadata": {
        "colab": {
          "base_uri": "https://localhost:8080/",
          "height": 265
        },
        "id": "jSpJtsratPjy",
        "outputId": "723b47e8-f7e1-4eca-e24e-23070004ae44"
      },
      "execution_count": 10,
      "outputs": [
        {
          "output_type": "display_data",
          "data": {
            "text/plain": [
              "<Figure size 432x288 with 1 Axes>"
            ],
            "image/png": "[encoded data removed]"
          },
          "metadata": {
            "needs_background": "light"
          }
        }
      ]
    },
    {
      "cell_type": "code",
      "source": [
        "print (xmean.std()) \n",
        "print (xmean.mean())"
      ],
      "metadata": {
        "colab": {
          "base_uri": "https://localhost:8080/"
        },
        "id": "YyqsaiKz9n0u",
        "outputId": "acb7d61f-faa9-4aa8-b422-0c03934dc795"
      },
      "execution_count": 18,
      "outputs": [
        {
          "output_type": "stream",
          "name": "stdout",
          "text": [
            "2.3048905644793116\n",
            "20.017283197921444\n"
          ]
        }
      ]
    },
    {
      "cell_type": "markdown",
      "source": [
        "1.- THE MEAN IS ALMOST EQUAL\n",
        "2.- WHAT I CAN SEE IN THE HISTROGRAM IS THAT IT DOESN'T HAVE A UNIFORM DISTRIBUTION BECAUSE THE PROBABILITY CHANGES WHEN THE NUMBERS GET CLOSE TO THE CENTER."
      ],
      "metadata": {
        "id": "T1y34mE3-m5M"
      }
    },
    {
      "cell_type": "code",
      "source": [
        "plt.clf()\n",
        "xmean.plot()\n",
        "x.plot()\n",
        "plt.show()"
      ],
      "metadata": {
        "colab": {
          "base_uri": "https://localhost:8080/",
          "height": 265
        },
        "id": "Uinx8GHDtR3e",
        "outputId": "3fef64dc-d832-4ebe-97c2-03e3abb81cac"
      },
      "execution_count": 11,
      "outputs": [
        {
          "output_type": "display_data",
          "data": {
            "text/plain": [
              "<Figure size 432x288 with 1 Axes>"
            ],
            "image/png": "[encoded data removed]"
          },
          "metadata": {
            "needs_background": "light"
          }
        }
      ]
    },
    {
      "cell_type": "markdown",
      "source": [
        "WHAT I SEE IN THIS HISTOGRAM IS THAT THE DISTRIBUTION ABOUT \"x\" AND \"Y\" ARE DIFFERENT, IN \"X\" THE DISTRIBUTION IS UNIFORM AND IN \"Y\" NOT."
      ],
      "metadata": {
        "id": "_XW9g10U_rn1"
      }
    },
    {
      "cell_type": "code",
      "source": [
        "# clear the plot space:\n",
        "plt.clf()\n",
        "# Define the probability type of function as uniform (probability space)\n",
        "P = Normal(mean=20, sd=10)\n",
        "# Define Y as a random variable of the type P (normal)\n",
        "Y =RV(P)\n",
        "# Simulate 10,000 values of Y and save the in the x array: \n",
        "y=Y.sim(10000)\n",
        "y.plot()\n",
        "plt.show()"
      ],
      "metadata": {
        "colab": {
          "base_uri": "https://localhost:8080/",
          "height": 265
        },
        "id": "upMXvwnXtVaz",
        "outputId": "21814fa1-357c-4627-92db-de296439eff6"
      },
      "execution_count": 12,
      "outputs": [
        {
          "output_type": "display_data",
          "data": {
            "text/plain": [
              "<Figure size 432x288 with 1 Axes>"
            ],
            "image/png": "[encoded data removed]"
          },
          "metadata": {
            "needs_background": "light"
          }
        }
      ]
    },
    {
      "cell_type": "code",
      "source": [
        "print (y.mean())\n",
        "print (y.std())"
      ],
      "metadata": {
        "colab": {
          "base_uri": "https://localhost:8080/"
        },
        "id": "n0xjbvwNAIPr",
        "outputId": "bace1d75-3106-458f-d804-e9293ed036f1"
      },
      "execution_count": 19,
      "outputs": [
        {
          "output_type": "stream",
          "name": "stdout",
          "text": [
            "19.913509379964495\n",
            "10.052470999736546\n"
          ]
        }
      ]
    },
    {
      "cell_type": "markdown",
      "source": [
        "1.- THE VALUES ARE THE SAME.\n",
        "2.- WHAT I CANN SEE IN THE HISTOGRAM IS THAT IT DOESN'T HAVE A UNIFORM DISFTRIBUTION, IT HAS A NORMAL ONE."
      ],
      "metadata": {
        "id": "SEhrJ4a7ARqS"
      }
    },
    {
      "cell_type": "code",
      "source": [
        "# Define the probability space P as a vector of 25 normal random numbers:\n",
        "P = Normal(mean=20, sd=10) ** 25\n",
        "# Define RANDOMVECTOR as a vector of 25 random variables in the Probability space P \n",
        "RANDOMVECTOR = RV(P)\n",
        "# Simulate 10,000 random vectors with this distribution and save the in ymatrix: \n",
        "ymatrix=RANDOMVECTOR.sim(10000)"
      ],
      "metadata": {
        "id": "SAHR5EAGtXhM"
      },
      "execution_count": 13,
      "outputs": []
    },
    {
      "cell_type": "code",
      "source": [
        "ymatrix"
      ],
      "metadata": {
        "colab": {
          "base_uri": "https://localhost:8080/",
          "height": 270
        },
        "id": "SQ0zVDGXtaJT",
        "outputId": "5f91caae-831b-4368-c426-d5dcb67aeea9"
      },
      "execution_count": 14,
      "outputs": [
        {
          "output_type": "execute_result",
          "data": {
            "text/plain": [
              "Index Result\n",
              "0     (29.23782811129, 15.086933132242711, 8.051270256314634, 19.185146759847125, 17.463736289188077, ..., 18.272268357507745)\n",
              "1     (18.265358631297065, 29.484178320419513, 34.255255270682966, 23.902248806368906, 55.41806553228753, ..., 17.35414575358135)\n",
              "2     (35.565741059416425, 21.391802118568805, 20.688051025492076, 22.817761304982845, 23.309363317064445, ..., 15.878961365512145)\n",
              "3     (24.36032551603276, 24.20782900732244, 28.372557031348517, 31.459289602462903, 40.89788310637074, ..., 35.58985073137794)\n",
              "4     (30.10742158312765, 30.232640702074008, 18.319490824793636, 31.4894843558921, 17.288099384267532, ..., 26.758064828967438)\n",
              "5     (24.29470351988416, 14.470334425580676, 20.24906110030905, 22.29665928834422, 21.235137531829064, ..., 28.320642138491518)\n",
              "6     (43.22278208820667, 15.504756263547325, 19.764077446990207, 19.982182367383867, 26.784618573567744, ..., -1.5207814581836914)\n",
              "7     (23.35245429621799, 14.299479908517924, 9.002205752216405, -4.136331969206374, 16.775712354644295, ..., 20.673389038687887)\n",
              "8     (38.97321383218101, 35.43145891237609, 18.598252221127836, 41.32618731110283, 33.05872977432291, ..., 31.194019831939887)\n",
              "....  ...........................................................................................................................\n",
              "9999  (35.85488011532699, 0.24834185775679174, 7.103000624832736, 10.207966908232889, 21.47575990550912, ..., 10.888942458150693)"
            ],
            "text/html": [
              "\n",
              "    <table>\n",
              "      <thead>\n",
              "        <th width=\"10%\">Index</th>\n",
              "        <th width=\"90%\">Result</th>\n",
              "      </thead>\n",
              "      <tbody>\n",
              "        \n",
              "        <tr>\n",
              "          <td>0</td><td>(29.23782811129, 15.086933132242711, 8.051270256314634, 19.185146759847125, 17.463736289188077, ...,...</td>\n",
              "        </tr>\n",
              "        \n",
              "        <tr>\n",
              "          <td>1</td><td>(18.265358631297065, 29.484178320419513, 34.255255270682966, 23.902248806368906, 55.41806553228753, ...</td>\n",
              "        </tr>\n",
              "        \n",
              "        <tr>\n",
              "          <td>2</td><td>(35.565741059416425, 21.391802118568805, 20.688051025492076, 22.817761304982845, 23.309363317064445,...</td>\n",
              "        </tr>\n",
              "        \n",
              "        <tr>\n",
              "          <td>3</td><td>(24.36032551603276, 24.20782900732244, 28.372557031348517, 31.459289602462903, 40.89788310637074, .....</td>\n",
              "        </tr>\n",
              "        \n",
              "        <tr>\n",
              "          <td>4</td><td>(30.10742158312765, 30.232640702074008, 18.319490824793636, 31.4894843558921, 17.288099384267532, .....</td>\n",
              "        </tr>\n",
              "        \n",
              "        <tr>\n",
              "          <td>5</td><td>(24.29470351988416, 14.470334425580676, 20.24906110030905, 22.29665928834422, 21.235137531829064, .....</td>\n",
              "        </tr>\n",
              "        \n",
              "        <tr>\n",
              "          <td>6</td><td>(43.22278208820667, 15.504756263547325, 19.764077446990207, 19.982182367383867, 26.784618573567744, ...</td>\n",
              "        </tr>\n",
              "        \n",
              "        <tr>\n",
              "          <td>7</td><td>(23.35245429621799, 14.299479908517924, 9.002205752216405, -4.136331969206374, 16.775712354644295, ....</td>\n",
              "        </tr>\n",
              "        \n",
              "        <tr>\n",
              "          <td>8</td><td>(38.97321383218101, 35.43145891237609, 18.598252221127836, 41.32618731110283, 33.05872977432291, ......</td>\n",
              "        </tr>\n",
              "        <tr><td>...</td><td>...</td></tr>\n",
              "        <tr>\n",
              "          <td>9999</td><td>(35.85488011532699, 0.24834185775679174, 7.103000624832736, 10.207966908232889, 21.47575990550912, ....</td>\n",
              "        </tr>\n",
              "        \n",
              "      </tbody>\n",
              "    </table>\n",
              "        "
            ]
          },
          "metadata": {},
          "execution_count": 14
        }
      ]
    },
    {
      "cell_type": "code",
      "source": [
        "# The 2nd parameter is the mathematical operation applied to each row of the random vector\n",
        "# Simulate 10,000 means of each random vector of 25 uniform distributed numbers: \n",
        "ymean = RV(P,mean).sim(10000)\n",
        "ymean"
      ],
      "metadata": {
        "colab": {
          "base_uri": "https://localhost:8080/",
          "height": 270
        },
        "id": "IwgL3xq_tb_b",
        "outputId": "a5718a6f-849f-4447-c1c9-31cfb5eeeec4"
      },
      "execution_count": 15,
      "outputs": [
        {
          "output_type": "execute_result",
          "data": {
            "text/plain": [
              "Index Result\n",
              "0     19.93280876630666\n",
              "1     19.929170741924544\n",
              "2     20.524391475447533\n",
              "3     20.085453648061897\n",
              "4     23.55701538983845\n",
              "5     20.977277933077797\n",
              "6     21.958901152105973\n",
              "7     17.02677225000089\n",
              "8     17.92213843975477\n",
              "....  ..................\n",
              "9999  21.586451369856817"
            ],
            "text/html": [
              "\n",
              "    <table>\n",
              "      <thead>\n",
              "        <th width=\"10%\">Index</th>\n",
              "        <th width=\"90%\">Result</th>\n",
              "      </thead>\n",
              "      <tbody>\n",
              "        \n",
              "        <tr>\n",
              "          <td>0</td><td>19.93280876630666</td>\n",
              "        </tr>\n",
              "        \n",
              "        <tr>\n",
              "          <td>1</td><td>19.929170741924544</td>\n",
              "        </tr>\n",
              "        \n",
              "        <tr>\n",
              "          <td>2</td><td>20.524391475447533</td>\n",
              "        </tr>\n",
              "        \n",
              "        <tr>\n",
              "          <td>3</td><td>20.085453648061897</td>\n",
              "        </tr>\n",
              "        \n",
              "        <tr>\n",
              "          <td>4</td><td>23.55701538983845</td>\n",
              "        </tr>\n",
              "        \n",
              "        <tr>\n",
              "          <td>5</td><td>20.977277933077797</td>\n",
              "        </tr>\n",
              "        \n",
              "        <tr>\n",
              "          <td>6</td><td>21.958901152105973</td>\n",
              "        </tr>\n",
              "        \n",
              "        <tr>\n",
              "          <td>7</td><td>17.02677225000089</td>\n",
              "        </tr>\n",
              "        \n",
              "        <tr>\n",
              "          <td>8</td><td>17.92213843975477</td>\n",
              "        </tr>\n",
              "        <tr><td>...</td><td>...</td></tr>\n",
              "        <tr>\n",
              "          <td>9999</td><td>21.586451369856817</td>\n",
              "        </tr>\n",
              "        \n",
              "      </tbody>\n",
              "    </table>\n",
              "        "
            ]
          },
          "metadata": {},
          "execution_count": 15
        }
      ]
    },
    {
      "cell_type": "code",
      "source": [
        "plt.clf()\n",
        "ymean.plot()\n",
        "plt.show()"
      ],
      "metadata": {
        "colab": {
          "base_uri": "https://localhost:8080/",
          "height": 265
        },
        "id": "HDCP_nDXteQX",
        "outputId": "555aadee-57ab-47fd-e610-fe28bc6e8c35"
      },
      "execution_count": 16,
      "outputs": [
        {
          "output_type": "display_data",
          "data": {
            "text/plain": [
              "<Figure size 432x288 with 1 Axes>"
            ],
            "image/png": "[encoded data removed]"
          },
          "metadata": {
            "needs_background": "light"
          }
        }
      ]
    },
    {
      "cell_type": "code",
      "source": [
        "print (ymean.std())\n",
        "print (ymean.mean())"
      ],
      "metadata": {
        "colab": {
          "base_uri": "https://localhost:8080/"
        },
        "id": "FMAjD-PSDp08",
        "outputId": "57b035e7-d351-4812-98e0-831c06415f9d"
      },
      "execution_count": 22,
      "outputs": [
        {
          "output_type": "stream",
          "name": "stdout",
          "text": [
            "2.00198517482444\n",
            "20.02802059726499\n"
          ]
        }
      ]
    },
    {
      "cell_type": "markdown",
      "source": [
        "THE MEAN IS EQUALLY."
      ],
      "metadata": {
        "id": "VNGZxWRpEFOb"
      }
    },
    {
      "cell_type": "code",
      "source": [
        "plt.clf()\n",
        "ymean.plot()\n",
        "y.plot()\n",
        "plt.show()"
      ],
      "metadata": {
        "colab": {
          "base_uri": "https://localhost:8080/",
          "height": 265
        },
        "id": "H-Y8TTCftgXv",
        "outputId": "004a2cce-adca-4822-9371-2f76114ae8e8"
      },
      "execution_count": 17,
      "outputs": [
        {
          "output_type": "display_data",
          "data": {
            "text/plain": [
              "<Figure size 432x288 with 1 Axes>"
            ],
            "image/png": "[encoded data removed]"
          },
          "metadata": {
            "needs_background": "light"
          }
        }
      ]
    },
    {
      "cell_type": "markdown",
      "source": [
        "THE BLUE ONE HAS LESS NUMBERS SO VISUALLY ARE MORE NOTABLE.\n",
        "THE ORANGE HAS MORE NUMBERS SO EACH NUMBERS HAS SMALLER DENSITY "
      ],
      "metadata": {
        "id": "e_fTqZXJBY36"
      }
    },
    {
      "cell_type": "markdown",
      "source": [
        "WHEN THE DATAS ARE BIGGER THEY WOULD HAVE A NORMAL DISTRIBUTION (CLT)"
      ],
      "metadata": {
        "id": "7uK1sWD3Em-k"
      }
    }
  ]
}