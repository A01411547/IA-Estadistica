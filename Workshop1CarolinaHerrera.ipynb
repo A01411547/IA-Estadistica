{
  "nbformat": 4,
  "nbformat_minor": 0,
  "metadata": {
    "colab": {
      "name": "Workshop1CarolinaHerrera.ipynb",
      "provenance": [],
      "collapsed_sections": []
    },
    "kernelspec": {
      "name": "python3",
      "display_name": "Python 3"
    },
    "language_info": {
      "name": "python"
    }
  },
  "cells": [
    {
      "cell_type": "code",
      "execution_count": 1,
      "metadata": {
        "colab": {
          "base_uri": "https://localhost:8080/"
        },
        "id": "l3dZqWU36wpx",
        "outputId": "a4e4aa32-59f1-42de-b8ed-49d614404038"
      },
      "outputs": [
        {
          "output_type": "stream",
          "name": "stdout",
          "text": [
            "Looking in indexes: https://pypi.org/simple, https://us-python.pkg.dev/colab-wheels/public/simple/\n",
            "Requirement already satisfied: pandas in /usr/local/lib/python3.7/dist-packages (1.3.5)\n",
            "Requirement already satisfied: python-dateutil>=2.7.3 in /usr/local/lib/python3.7/dist-packages (from pandas) (2.8.2)\n",
            "Requirement already satisfied: pytz>=2017.3 in /usr/local/lib/python3.7/dist-packages (from pandas) (2022.1)\n",
            "Requirement already satisfied: numpy>=1.17.3 in /usr/local/lib/python3.7/dist-packages (from pandas) (1.21.6)\n",
            "Requirement already satisfied: six>=1.5 in /usr/local/lib/python3.7/dist-packages (from python-dateutil>=2.7.3->pandas) (1.15.0)\n",
            "Looking in indexes: https://pypi.org/simple, https://us-python.pkg.dev/colab-wheels/public/simple/\n",
            "Requirement already satisfied: pandas-datareader in /usr/local/lib/python3.7/dist-packages (0.9.0)\n",
            "Collecting pandas-datareader\n",
            "  Downloading pandas_datareader-0.10.0-py3-none-any.whl (109 kB)\n",
            "\u001b[K     |████████████████████████████████| 109 kB 8.9 MB/s \n",
            "\u001b[?25hRequirement already satisfied: lxml in /usr/local/lib/python3.7/dist-packages (from pandas-datareader) (4.9.1)\n",
            "Requirement already satisfied: requests>=2.19.0 in /usr/local/lib/python3.7/dist-packages (from pandas-datareader) (2.23.0)\n",
            "Requirement already satisfied: pandas>=0.23 in /usr/local/lib/python3.7/dist-packages (from pandas-datareader) (1.3.5)\n",
            "Requirement already satisfied: python-dateutil>=2.7.3 in /usr/local/lib/python3.7/dist-packages (from pandas>=0.23->pandas-datareader) (2.8.2)\n",
            "Requirement already satisfied: numpy>=1.17.3 in /usr/local/lib/python3.7/dist-packages (from pandas>=0.23->pandas-datareader) (1.21.6)\n",
            "Requirement already satisfied: pytz>=2017.3 in /usr/local/lib/python3.7/dist-packages (from pandas>=0.23->pandas-datareader) (2022.1)\n",
            "Requirement already satisfied: six>=1.5 in /usr/local/lib/python3.7/dist-packages (from python-dateutil>=2.7.3->pandas>=0.23->pandas-datareader) (1.15.0)\n",
            "Requirement already satisfied: chardet<4,>=3.0.2 in /usr/local/lib/python3.7/dist-packages (from requests>=2.19.0->pandas-datareader) (3.0.4)\n",
            "Requirement already satisfied: urllib3!=1.25.0,!=1.25.1,<1.26,>=1.21.1 in /usr/local/lib/python3.7/dist-packages (from requests>=2.19.0->pandas-datareader) (1.24.3)\n",
            "Requirement already satisfied: certifi>=2017.4.17 in /usr/local/lib/python3.7/dist-packages (from requests>=2.19.0->pandas-datareader) (2022.6.15)\n",
            "Requirement already satisfied: idna<3,>=2.5 in /usr/local/lib/python3.7/dist-packages (from requests>=2.19.0->pandas-datareader) (2.10)\n",
            "Installing collected packages: pandas-datareader\n",
            "  Attempting uninstall: pandas-datareader\n",
            "    Found existing installation: pandas-datareader 0.9.0\n",
            "    Uninstalling pandas-datareader-0.9.0:\n",
            "      Successfully uninstalled pandas-datareader-0.9.0\n",
            "Successfully installed pandas-datareader-0.10.0\n"
          ]
        }
      ],
      "source": [
        "!pip install --upgrade pandas\n",
        "!pip install --upgrade pandas-datareader\n",
        "\n",
        "import numpy as np\n",
        "import pandas as pd\n",
        "import pandas_datareader as pdr\n"
      ]
    },
    {
      "cell_type": "code",
      "source": [
        "BTC = pdr.get_data_yahoo('BTC-USD',\n",
        "start=\"01/01/2017\", interval=\"d\")"
      ],
      "metadata": {
        "id": "aVuAaKYj8pOz"
      },
      "execution_count": 2,
      "outputs": []
    },
    {
      "cell_type": "code",
      "source": [
        "BTC"
      ],
      "metadata": {
        "colab": {
          "base_uri": "https://localhost:8080/",
          "height": 455
        },
        "id": "FajojmzL8s49",
        "outputId": "7c98684a-c900-4d6c-e37f-9eee3cab774e"
      },
      "execution_count": 3,
      "outputs": [
        {
          "output_type": "execute_result",
          "data": {
            "text/plain": [
              "                    High           Low          Open         Close  \\\n",
              "Date                                                                 \n",
              "2017-01-01   1003.080017    958.698975    963.658020    998.325012   \n",
              "2017-01-02   1031.390015    996.702026    998.617004   1021.750000   \n",
              "2017-01-03   1044.079956   1021.599976   1021.599976   1043.839966   \n",
              "2017-01-04   1159.420044   1044.400024   1044.400024   1154.729980   \n",
              "2017-01-05   1191.099976    910.416992   1156.729980   1013.380005   \n",
              "...                  ...           ...           ...           ...   \n",
              "2022-08-07  23359.009766  22894.556641  22963.505859  23175.890625   \n",
              "2022-08-08  24203.689453  23176.546875  23179.527344  23809.486328   \n",
              "2022-08-09  23898.615234  22982.000000  23811.484375  23164.318359   \n",
              "2022-08-10  24127.414062  22771.519531  23162.898438  23947.642578   \n",
              "2022-08-11  24809.279297  23956.478516  23984.750000  24147.816406   \n",
              "\n",
              "                 Volume     Adj Close  \n",
              "Date                                   \n",
              "2017-01-01    147775008    998.325012  \n",
              "2017-01-02    222184992   1021.750000  \n",
              "2017-01-03    185168000   1043.839966  \n",
              "2017-01-04    344945984   1154.729980  \n",
              "2017-01-05    510199008   1013.380005  \n",
              "...                 ...           ...  \n",
              "2022-08-07  15886817043  23175.890625  \n",
              "2022-08-08  28575544847  23809.486328  \n",
              "2022-08-09  23555719219  23164.318359  \n",
              "2022-08-10  32837431722  23947.642578  \n",
              "2022-08-11  36869427200  24147.816406  \n",
              "\n",
              "[2049 rows x 6 columns]"
            ],
            "text/html": [
              "\n",
              "  <div id=\"df-07ce238b-da0d-41bf-8d4c-56a062161ae0\">\n",
              "    <div class=\"colab-df-container\">\n",
              "      <div>\n",
              "<style scoped>\n",
              "    .dataframe tbody tr th:only-of-type {\n",
              "        vertical-align: middle;\n",
              "    }\n",
              "\n",
              "    .dataframe tbody tr th {\n",
              "        vertical-align: top;\n",
              "    }\n",
              "\n",
              "    .dataframe thead th {\n",
              "        text-align: right;\n",
              "    }\n",
              "</style>\n",
              "<table border=\"1\" class=\"dataframe\">\n",
              "  <thead>\n",
              "    <tr style=\"text-align: right;\">\n",
              "      <th></th>\n",
              "      <th>High</th>\n",
              "      <th>Low</th>\n",
              "      <th>Open</th>\n",
              "      <th>Close</th>\n",
              "      <th>Volume</th>\n",
              "      <th>Adj Close</th>\n",
              "    </tr>\n",
              "    <tr>\n",
              "      <th>Date</th>\n",
              "      <th></th>\n",
              "      <th></th>\n",
              "      <th></th>\n",
              "      <th></th>\n",
              "      <th></th>\n",
              "      <th></th>\n",
              "    </tr>\n",
              "  </thead>\n",
              "  <tbody>\n",
              "    <tr>\n",
              "      <th>2017-01-01</th>\n",
              "      <td>1003.080017</td>\n",
              "      <td>958.698975</td>\n",
              "      <td>963.658020</td>\n",
              "      <td>998.325012</td>\n",
              "      <td>147775008</td>\n",
              "      <td>998.325012</td>\n",
              "    </tr>\n",
              "    <tr>\n",
              "      <th>2017-01-02</th>\n",
              "      <td>1031.390015</td>\n",
              "      <td>996.702026</td>\n",
              "      <td>998.617004</td>\n",
              "      <td>1021.750000</td>\n",
              "      <td>222184992</td>\n",
              "      <td>1021.750000</td>\n",
              "    </tr>\n",
              "    <tr>\n",
              "      <th>2017-01-03</th>\n",
              "      <td>1044.079956</td>\n",
              "      <td>1021.599976</td>\n",
              "      <td>1021.599976</td>\n",
              "      <td>1043.839966</td>\n",
              "      <td>185168000</td>\n",
              "      <td>1043.839966</td>\n",
              "    </tr>\n",
              "    <tr>\n",
              "      <th>2017-01-04</th>\n",
              "      <td>1159.420044</td>\n",
              "      <td>1044.400024</td>\n",
              "      <td>1044.400024</td>\n",
              "      <td>1154.729980</td>\n",
              "      <td>344945984</td>\n",
              "      <td>1154.729980</td>\n",
              "    </tr>\n",
              "    <tr>\n",
              "      <th>2017-01-05</th>\n",
              "      <td>1191.099976</td>\n",
              "      <td>910.416992</td>\n",
              "      <td>1156.729980</td>\n",
              "      <td>1013.380005</td>\n",
              "      <td>510199008</td>\n",
              "      <td>1013.380005</td>\n",
              "    </tr>\n",
              "    <tr>\n",
              "      <th>...</th>\n",
              "      <td>...</td>\n",
              "      <td>...</td>\n",
              "      <td>...</td>\n",
              "      <td>...</td>\n",
              "      <td>...</td>\n",
              "      <td>...</td>\n",
              "    </tr>\n",
              "    <tr>\n",
              "      <th>2022-08-07</th>\n",
              "      <td>23359.009766</td>\n",
              "      <td>22894.556641</td>\n",
              "      <td>22963.505859</td>\n",
              "      <td>23175.890625</td>\n",
              "      <td>15886817043</td>\n",
              "      <td>23175.890625</td>\n",
              "    </tr>\n",
              "    <tr>\n",
              "      <th>2022-08-08</th>\n",
              "      <td>24203.689453</td>\n",
              "      <td>23176.546875</td>\n",
              "      <td>23179.527344</td>\n",
              "      <td>23809.486328</td>\n",
              "      <td>28575544847</td>\n",
              "      <td>23809.486328</td>\n",
              "    </tr>\n",
              "    <tr>\n",
              "      <th>2022-08-09</th>\n",
              "      <td>23898.615234</td>\n",
              "      <td>22982.000000</td>\n",
              "      <td>23811.484375</td>\n",
              "      <td>23164.318359</td>\n",
              "      <td>23555719219</td>\n",
              "      <td>23164.318359</td>\n",
              "    </tr>\n",
              "    <tr>\n",
              "      <th>2022-08-10</th>\n",
              "      <td>24127.414062</td>\n",
              "      <td>22771.519531</td>\n",
              "      <td>23162.898438</td>\n",
              "      <td>23947.642578</td>\n",
              "      <td>32837431722</td>\n",
              "      <td>23947.642578</td>\n",
              "    </tr>\n",
              "    <tr>\n",
              "      <th>2022-08-11</th>\n",
              "      <td>24809.279297</td>\n",
              "      <td>23956.478516</td>\n",
              "      <td>23984.750000</td>\n",
              "      <td>24147.816406</td>\n",
              "      <td>36869427200</td>\n",
              "      <td>24147.816406</td>\n",
              "    </tr>\n",
              "  </tbody>\n",
              "</table>\n",
              "<p>2049 rows × 6 columns</p>\n",
              "</div>\n",
              "      <button class=\"colab-df-convert\" onclick=\"convertToInteractive('df-07ce238b-da0d-41bf-8d4c-56a062161ae0')\"\n",
              "              title=\"Convert this dataframe to an interactive table.\"\n",
              "              style=\"display:none;\">\n",
              "        \n",
              "  <svg xmlns=\"http://www.w3.org/2000/svg\" height=\"24px\"viewBox=\"0 0 24 24\"\n",
              "       width=\"24px\">\n",
              "    <path d=\"M0 0h24v24H0V0z\" fill=\"none\"/>\n",
              "    <path d=\"M18.56 5.44l.94 2.06.94-2.06 2.06-.94-2.06-.94-.94-2.06-.94 2.06-2.06.94zm-11 1L8.5 8.5l.94-2.06 2.06-.94-2.06-.94L8.5 2.5l-.94 2.06-2.06.94zm10 10l.94 2.06.94-2.06 2.06-.94-2.06-.94-.94-2.06-.94 2.06-2.06.94z\"/><path d=\"M17.41 7.96l-1.37-1.37c-.4-.4-.92-.59-1.43-.59-.52 0-1.04.2-1.43.59L10.3 9.45l-7.72 7.72c-.78.78-.78 2.05 0 2.83L4 21.41c.39.39.9.59 1.41.59.51 0 1.02-.2 1.41-.59l7.78-7.78 2.81-2.81c.8-.78.8-2.07 0-2.86zM5.41 20L4 18.59l7.72-7.72 1.47 1.35L5.41 20z\"/>\n",
              "  </svg>\n",
              "      </button>\n",
              "      \n",
              "  <style>\n",
              "    .colab-df-container {\n",
              "      display:flex;\n",
              "      flex-wrap:wrap;\n",
              "      gap: 12px;\n",
              "    }\n",
              "\n",
              "    .colab-df-convert {\n",
              "      background-color: #E8F0FE;\n",
              "      border: none;\n",
              "      border-radius: 50%;\n",
              "      cursor: pointer;\n",
              "      display: none;\n",
              "      fill: #1967D2;\n",
              "      height: 32px;\n",
              "      padding: 0 0 0 0;\n",
              "      width: 32px;\n",
              "    }\n",
              "\n",
              "    .colab-df-convert:hover {\n",
              "      background-color: #E2EBFA;\n",
              "      box-shadow: 0px 1px 2px rgba(60, 64, 67, 0.3), 0px 1px 3px 1px rgba(60, 64, 67, 0.15);\n",
              "      fill: #174EA6;\n",
              "    }\n",
              "\n",
              "    [theme=dark] .colab-df-convert {\n",
              "      background-color: #3B4455;\n",
              "      fill: #D2E3FC;\n",
              "    }\n",
              "\n",
              "    [theme=dark] .colab-df-convert:hover {\n",
              "      background-color: #434B5C;\n",
              "      box-shadow: 0px 1px 3px 1px rgba(0, 0, 0, 0.15);\n",
              "      filter: drop-shadow(0px 1px 2px rgba(0, 0, 0, 0.3));\n",
              "      fill: #FFFFFF;\n",
              "    }\n",
              "  </style>\n",
              "\n",
              "      <script>\n",
              "        const buttonEl =\n",
              "          document.querySelector('#df-07ce238b-da0d-41bf-8d4c-56a062161ae0 button.colab-df-convert');\n",
              "        buttonEl.style.display =\n",
              "          google.colab.kernel.accessAllowed ? 'block' : 'none';\n",
              "\n",
              "        async function convertToInteractive(key) {\n",
              "          const element = document.querySelector('#df-07ce238b-da0d-41bf-8d4c-56a062161ae0');\n",
              "          const dataTable =\n",
              "            await google.colab.kernel.invokeFunction('convertToInteractive',\n",
              "                                                     [key], {});\n",
              "          if (!dataTable) return;\n",
              "\n",
              "          const docLinkHtml = 'Like what you see? Visit the ' +\n",
              "            '<a target=\"_blank\" href=https://colab.research.google.com/notebooks/data_table.ipynb>data table notebook</a>'\n",
              "            + ' to learn more about interactive tables.';\n",
              "          element.innerHTML = '';\n",
              "          dataTable['output_type'] = 'display_data';\n",
              "          await google.colab.output.renderOutput(dataTable, element);\n",
              "          const docLink = document.createElement('div');\n",
              "          docLink.innerHTML = docLinkHtml;\n",
              "          element.appendChild(docLink);\n",
              "        }\n",
              "      </script>\n",
              "    </div>\n",
              "  </div>\n",
              "  "
            ]
          },
          "metadata": {},
          "execution_count": 3
        }
      ]
    },
    {
      "cell_type": "code",
      "source": [
        "BTC.tail()"
      ],
      "metadata": {
        "colab": {
          "base_uri": "https://localhost:8080/",
          "height": 237
        },
        "id": "QQSIiB3w8u6T",
        "outputId": "a29c51cf-b523-4252-dbcd-4ddc38f2a029"
      },
      "execution_count": 4,
      "outputs": [
        {
          "output_type": "execute_result",
          "data": {
            "text/plain": [
              "                    High           Low          Open         Close  \\\n",
              "Date                                                                 \n",
              "2022-08-07  23359.009766  22894.556641  22963.505859  23175.890625   \n",
              "2022-08-08  24203.689453  23176.546875  23179.527344  23809.486328   \n",
              "2022-08-09  23898.615234  22982.000000  23811.484375  23164.318359   \n",
              "2022-08-10  24127.414062  22771.519531  23162.898438  23947.642578   \n",
              "2022-08-11  24809.279297  23956.478516  23984.750000  24147.816406   \n",
              "\n",
              "                 Volume     Adj Close  \n",
              "Date                                   \n",
              "2022-08-07  15886817043  23175.890625  \n",
              "2022-08-08  28575544847  23809.486328  \n",
              "2022-08-09  23555719219  23164.318359  \n",
              "2022-08-10  32837431722  23947.642578  \n",
              "2022-08-11  36869427200  24147.816406  "
            ],
            "text/html": [
              "\n",
              "  <div id=\"df-17f5c391-0e36-4ccd-a12f-32840630286c\">\n",
              "    <div class=\"colab-df-container\">\n",
              "      <div>\n",
              "<style scoped>\n",
              "    .dataframe tbody tr th:only-of-type {\n",
              "        vertical-align: middle;\n",
              "    }\n",
              "\n",
              "    .dataframe tbody tr th {\n",
              "        vertical-align: top;\n",
              "    }\n",
              "\n",
              "    .dataframe thead th {\n",
              "        text-align: right;\n",
              "    }\n",
              "</style>\n",
              "<table border=\"1\" class=\"dataframe\">\n",
              "  <thead>\n",
              "    <tr style=\"text-align: right;\">\n",
              "      <th></th>\n",
              "      <th>High</th>\n",
              "      <th>Low</th>\n",
              "      <th>Open</th>\n",
              "      <th>Close</th>\n",
              "      <th>Volume</th>\n",
              "      <th>Adj Close</th>\n",
              "    </tr>\n",
              "    <tr>\n",
              "      <th>Date</th>\n",
              "      <th></th>\n",
              "      <th></th>\n",
              "      <th></th>\n",
              "      <th></th>\n",
              "      <th></th>\n",
              "      <th></th>\n",
              "    </tr>\n",
              "  </thead>\n",
              "  <tbody>\n",
              "    <tr>\n",
              "      <th>2022-08-07</th>\n",
              "      <td>23359.009766</td>\n",
              "      <td>22894.556641</td>\n",
              "      <td>22963.505859</td>\n",
              "      <td>23175.890625</td>\n",
              "      <td>15886817043</td>\n",
              "      <td>23175.890625</td>\n",
              "    </tr>\n",
              "    <tr>\n",
              "      <th>2022-08-08</th>\n",
              "      <td>24203.689453</td>\n",
              "      <td>23176.546875</td>\n",
              "      <td>23179.527344</td>\n",
              "      <td>23809.486328</td>\n",
              "      <td>28575544847</td>\n",
              "      <td>23809.486328</td>\n",
              "    </tr>\n",
              "    <tr>\n",
              "      <th>2022-08-09</th>\n",
              "      <td>23898.615234</td>\n",
              "      <td>22982.000000</td>\n",
              "      <td>23811.484375</td>\n",
              "      <td>23164.318359</td>\n",
              "      <td>23555719219</td>\n",
              "      <td>23164.318359</td>\n",
              "    </tr>\n",
              "    <tr>\n",
              "      <th>2022-08-10</th>\n",
              "      <td>24127.414062</td>\n",
              "      <td>22771.519531</td>\n",
              "      <td>23162.898438</td>\n",
              "      <td>23947.642578</td>\n",
              "      <td>32837431722</td>\n",
              "      <td>23947.642578</td>\n",
              "    </tr>\n",
              "    <tr>\n",
              "      <th>2022-08-11</th>\n",
              "      <td>24809.279297</td>\n",
              "      <td>23956.478516</td>\n",
              "      <td>23984.750000</td>\n",
              "      <td>24147.816406</td>\n",
              "      <td>36869427200</td>\n",
              "      <td>24147.816406</td>\n",
              "    </tr>\n",
              "  </tbody>\n",
              "</table>\n",
              "</div>\n",
              "      <button class=\"colab-df-convert\" onclick=\"convertToInteractive('df-17f5c391-0e36-4ccd-a12f-32840630286c')\"\n",
              "              title=\"Convert this dataframe to an interactive table.\"\n",
              "              style=\"display:none;\">\n",
              "        \n",
              "  <svg xmlns=\"http://www.w3.org/2000/svg\" height=\"24px\"viewBox=\"0 0 24 24\"\n",
              "       width=\"24px\">\n",
              "    <path d=\"M0 0h24v24H0V0z\" fill=\"none\"/>\n",
              "    <path d=\"M18.56 5.44l.94 2.06.94-2.06 2.06-.94-2.06-.94-.94-2.06-.94 2.06-2.06.94zm-11 1L8.5 8.5l.94-2.06 2.06-.94-2.06-.94L8.5 2.5l-.94 2.06-2.06.94zm10 10l.94 2.06.94-2.06 2.06-.94-2.06-.94-.94-2.06-.94 2.06-2.06.94z\"/><path d=\"M17.41 7.96l-1.37-1.37c-.4-.4-.92-.59-1.43-.59-.52 0-1.04.2-1.43.59L10.3 9.45l-7.72 7.72c-.78.78-.78 2.05 0 2.83L4 21.41c.39.39.9.59 1.41.59.51 0 1.02-.2 1.41-.59l7.78-7.78 2.81-2.81c.8-.78.8-2.07 0-2.86zM5.41 20L4 18.59l7.72-7.72 1.47 1.35L5.41 20z\"/>\n",
              "  </svg>\n",
              "      </button>\n",
              "      \n",
              "  <style>\n",
              "    .colab-df-container {\n",
              "      display:flex;\n",
              "      flex-wrap:wrap;\n",
              "      gap: 12px;\n",
              "    }\n",
              "\n",
              "    .colab-df-convert {\n",
              "      background-color: #E8F0FE;\n",
              "      border: none;\n",
              "      border-radius: 50%;\n",
              "      cursor: pointer;\n",
              "      display: none;\n",
              "      fill: #1967D2;\n",
              "      height: 32px;\n",
              "      padding: 0 0 0 0;\n",
              "      width: 32px;\n",
              "    }\n",
              "\n",
              "    .colab-df-convert:hover {\n",
              "      background-color: #E2EBFA;\n",
              "      box-shadow: 0px 1px 2px rgba(60, 64, 67, 0.3), 0px 1px 3px 1px rgba(60, 64, 67, 0.15);\n",
              "      fill: #174EA6;\n",
              "    }\n",
              "\n",
              "    [theme=dark] .colab-df-convert {\n",
              "      background-color: #3B4455;\n",
              "      fill: #D2E3FC;\n",
              "    }\n",
              "\n",
              "    [theme=dark] .colab-df-convert:hover {\n",
              "      background-color: #434B5C;\n",
              "      box-shadow: 0px 1px 3px 1px rgba(0, 0, 0, 0.15);\n",
              "      filter: drop-shadow(0px 1px 2px rgba(0, 0, 0, 0.3));\n",
              "      fill: #FFFFFF;\n",
              "    }\n",
              "  </style>\n",
              "\n",
              "      <script>\n",
              "        const buttonEl =\n",
              "          document.querySelector('#df-17f5c391-0e36-4ccd-a12f-32840630286c button.colab-df-convert');\n",
              "        buttonEl.style.display =\n",
              "          google.colab.kernel.accessAllowed ? 'block' : 'none';\n",
              "\n",
              "        async function convertToInteractive(key) {\n",
              "          const element = document.querySelector('#df-17f5c391-0e36-4ccd-a12f-32840630286c');\n",
              "          const dataTable =\n",
              "            await google.colab.kernel.invokeFunction('convertToInteractive',\n",
              "                                                     [key], {});\n",
              "          if (!dataTable) return;\n",
              "\n",
              "          const docLinkHtml = 'Like what you see? Visit the ' +\n",
              "            '<a target=\"_blank\" href=https://colab.research.google.com/notebooks/data_table.ipynb>data table notebook</a>'\n",
              "            + ' to learn more about interactive tables.';\n",
              "          element.innerHTML = '';\n",
              "          dataTable['output_type'] = 'display_data';\n",
              "          await google.colab.output.renderOutput(dataTable, element);\n",
              "          const docLink = document.createElement('div');\n",
              "          docLink.innerHTML = docLinkHtml;\n",
              "          element.appendChild(docLink);\n",
              "        }\n",
              "      </script>\n",
              "    </div>\n",
              "  </div>\n",
              "  "
            ]
          },
          "metadata": {},
          "execution_count": 4
        }
      ]
    },
    {
      "cell_type": "code",
      "source": [
        "import matplotlib\n",
        "from matplotlib.pyplot import*\n",
        "plot(BTC[\"Close\"])\n",
        "show()"
      ],
      "metadata": {
        "colab": {
          "base_uri": "https://localhost:8080/",
          "height": 267
        },
        "id": "QjcVvFHd8xyg",
        "outputId": "b365455b-dfa0-43ba-a73e-9cd2f3fcf4b0"
      },
      "execution_count": 5,
      "outputs": [
        {
          "output_type": "display_data",
          "data": {
            "text/plain": [
              "<Figure size 432x288 with 1 Axes>"
            ],
            "image/png": "[encoded data removed]"
          },
          "metadata": {
            "needs_background": "light"
          }
        }
      ]
    },
    {
      "cell_type": "code",
      "source": [
        "BTC.info()"
      ],
      "metadata": {
        "colab": {
          "base_uri": "https://localhost:8080/"
        },
        "id": "RwqR8mmV81bT",
        "outputId": "f600fbc4-3851-4448-85d3-14f06ec4f8fd"
      },
      "execution_count": 6,
      "outputs": [
        {
          "output_type": "stream",
          "name": "stdout",
          "text": [
            "<class 'pandas.core.frame.DataFrame'>\n",
            "DatetimeIndex: 2049 entries, 2017-01-01 to 2022-08-11\n",
            "Data columns (total 6 columns):\n",
            " #   Column     Non-Null Count  Dtype  \n",
            "---  ------     --------------  -----  \n",
            " 0   High       2049 non-null   float64\n",
            " 1   Low        2049 non-null   float64\n",
            " 2   Open       2049 non-null   float64\n",
            " 3   Close      2049 non-null   float64\n",
            " 4   Volume     2049 non-null   int64  \n",
            " 5   Adj Close  2049 non-null   float64\n",
            "dtypes: float64(5), int64(1)\n",
            "memory usage: 112.1 KB\n"
          ]
        }
      ]
    },
    {
      "cell_type": "code",
      "source": [
        "BTC[\"R\"] = (BTC[\"Close\"] / BTC[\"Close\"].shift(1)) - 1\n",
        "print(BTC[\"R\"])"
      ],
      "metadata": {
        "colab": {
          "base_uri": "https://localhost:8080/"
        },
        "id": "WaoErQpV84UO",
        "outputId": "337b6f5f-b845-46b4-da1f-a3b382f79ba1"
      },
      "execution_count": 7,
      "outputs": [
        {
          "output_type": "stream",
          "name": "stdout",
          "text": [
            "Date\n",
            "2017-01-01         NaN\n",
            "2017-01-02    0.023464\n",
            "2017-01-03    0.021620\n",
            "2017-01-04    0.106233\n",
            "2017-01-05   -0.122410\n",
            "                ...   \n",
            "2022-08-07    0.009347\n",
            "2022-08-08    0.027339\n",
            "2022-08-09   -0.027097\n",
            "2022-08-10    0.033816\n",
            "2022-08-11    0.008359\n",
            "Name: R, Length: 2049, dtype: float64\n"
          ]
        }
      ]
    },
    {
      "cell_type": "code",
      "source": [
        "BTC[\"r\"] = np.log(BTC['Adj Close']) - np.log(BTC['Adj Close'].shift(1))\n",
        "BTCR = BTC[['R','r']].copy()"
      ],
      "metadata": {
        "id": "Lxfqv0ID87pN"
      },
      "execution_count": 8,
      "outputs": []
    },
    {
      "cell_type": "code",
      "source": [
        "BTC= BTC.dropna()"
      ],
      "metadata": {
        "id": "jadYbhTN8-TT"
      },
      "execution_count": 9,
      "outputs": []
    },
    {
      "cell_type": "code",
      "source": [
        "sumret = BTC[\"R\"].describe()\n",
        "sumret"
      ],
      "metadata": {
        "colab": {
          "base_uri": "https://localhost:8080/"
        },
        "id": "xfylcoQu9Ar7",
        "outputId": "9c3e46f8-6c80-4392-bc06-d7384680ca85"
      },
      "execution_count": 10,
      "outputs": [
        {
          "output_type": "execute_result",
          "data": {
            "text/plain": [
              "count    2048.000000\n",
              "mean        0.002419\n",
              "std         0.041369\n",
              "min        -0.371695\n",
              "25%        -0.015888\n",
              "50%         0.002220\n",
              "75%         0.020927\n",
              "max         0.252472\n",
              "Name: R, dtype: float64"
            ]
          },
          "metadata": {},
          "execution_count": 10
        }
      ]
    },
    {
      "cell_type": "code",
      "source": [
        "BTC[BTC[\"R\"]<-0.15]"
      ],
      "metadata": {
        "colab": {
          "base_uri": "https://localhost:8080/",
          "height": 237
        },
        "id": "SRio6S789Cra",
        "outputId": "95aeb270-30a1-41be-948b-f02f7404e733"
      },
      "execution_count": 11,
      "outputs": [
        {
          "output_type": "execute_result",
          "data": {
            "text/plain": [
              "                    High           Low          Open         Close  \\\n",
              "Date                                                                 \n",
              "2017-09-14   3920.600098   3153.860107   3875.370117   3154.949951   \n",
              "2018-01-16  13843.099609  10194.900391  13836.099609  11490.500000   \n",
              "2018-02-05   8364.839844   6756.680176   8270.540039   6955.270020   \n",
              "2020-03-12   7929.116211   4860.354004   7913.616211   4970.788086   \n",
              "2022-06-13  26795.589844  22141.257812  26737.578125  22487.388672   \n",
              "\n",
              "                 Volume     Adj Close         R         r  \n",
              "Date                                                       \n",
              "2017-09-14   2716310016   3154.949951 -0.187411 -0.207530  \n",
              "2018-01-16  18853799936  11490.500000 -0.168548 -0.184582  \n",
              "2018-02-05   9285289984   6955.270020 -0.159688 -0.173982  \n",
              "2020-03-12  53980357243   4970.788086 -0.371695 -0.464730  \n",
              "2022-06-13  68204556440  22487.388672 -0.159747 -0.174053  "
            ],
            "text/html": [
              "\n",
              "  <div id=\"df-f1be4a0c-5006-43e2-871b-ed48e1f68671\">\n",
              "    <div class=\"colab-df-container\">\n",
              "      <div>\n",
              "<style scoped>\n",
              "    .dataframe tbody tr th:only-of-type {\n",
              "        vertical-align: middle;\n",
              "    }\n",
              "\n",
              "    .dataframe tbody tr th {\n",
              "        vertical-align: top;\n",
              "    }\n",
              "\n",
              "    .dataframe thead th {\n",
              "        text-align: right;\n",
              "    }\n",
              "</style>\n",
              "<table border=\"1\" class=\"dataframe\">\n",
              "  <thead>\n",
              "    <tr style=\"text-align: right;\">\n",
              "      <th></th>\n",
              "      <th>High</th>\n",
              "      <th>Low</th>\n",
              "      <th>Open</th>\n",
              "      <th>Close</th>\n",
              "      <th>Volume</th>\n",
              "      <th>Adj Close</th>\n",
              "      <th>R</th>\n",
              "      <th>r</th>\n",
              "    </tr>\n",
              "    <tr>\n",
              "      <th>Date</th>\n",
              "      <th></th>\n",
              "      <th></th>\n",
              "      <th></th>\n",
              "      <th></th>\n",
              "      <th></th>\n",
              "      <th></th>\n",
              "      <th></th>\n",
              "      <th></th>\n",
              "    </tr>\n",
              "  </thead>\n",
              "  <tbody>\n",
              "    <tr>\n",
              "      <th>2017-09-14</th>\n",
              "      <td>3920.600098</td>\n",
              "      <td>3153.860107</td>\n",
              "      <td>3875.370117</td>\n",
              "      <td>3154.949951</td>\n",
              "      <td>2716310016</td>\n",
              "      <td>3154.949951</td>\n",
              "      <td>-0.187411</td>\n",
              "      <td>-0.207530</td>\n",
              "    </tr>\n",
              "    <tr>\n",
              "      <th>2018-01-16</th>\n",
              "      <td>13843.099609</td>\n",
              "      <td>10194.900391</td>\n",
              "      <td>13836.099609</td>\n",
              "      <td>11490.500000</td>\n",
              "      <td>18853799936</td>\n",
              "      <td>11490.500000</td>\n",
              "      <td>-0.168548</td>\n",
              "      <td>-0.184582</td>\n",
              "    </tr>\n",
              "    <tr>\n",
              "      <th>2018-02-05</th>\n",
              "      <td>8364.839844</td>\n",
              "      <td>6756.680176</td>\n",
              "      <td>8270.540039</td>\n",
              "      <td>6955.270020</td>\n",
              "      <td>9285289984</td>\n",
              "      <td>6955.270020</td>\n",
              "      <td>-0.159688</td>\n",
              "      <td>-0.173982</td>\n",
              "    </tr>\n",
              "    <tr>\n",
              "      <th>2020-03-12</th>\n",
              "      <td>7929.116211</td>\n",
              "      <td>4860.354004</td>\n",
              "      <td>7913.616211</td>\n",
              "      <td>4970.788086</td>\n",
              "      <td>53980357243</td>\n",
              "      <td>4970.788086</td>\n",
              "      <td>-0.371695</td>\n",
              "      <td>-0.464730</td>\n",
              "    </tr>\n",
              "    <tr>\n",
              "      <th>2022-06-13</th>\n",
              "      <td>26795.589844</td>\n",
              "      <td>22141.257812</td>\n",
              "      <td>26737.578125</td>\n",
              "      <td>22487.388672</td>\n",
              "      <td>68204556440</td>\n",
              "      <td>22487.388672</td>\n",
              "      <td>-0.159747</td>\n",
              "      <td>-0.174053</td>\n",
              "    </tr>\n",
              "  </tbody>\n",
              "</table>\n",
              "</div>\n",
              "      <button class=\"colab-df-convert\" onclick=\"convertToInteractive('df-f1be4a0c-5006-43e2-871b-ed48e1f68671')\"\n",
              "              title=\"Convert this dataframe to an interactive table.\"\n",
              "              style=\"display:none;\">\n",
              "        \n",
              "  <svg xmlns=\"http://www.w3.org/2000/svg\" height=\"24px\"viewBox=\"0 0 24 24\"\n",
              "       width=\"24px\">\n",
              "    <path d=\"M0 0h24v24H0V0z\" fill=\"none\"/>\n",
              "    <path d=\"M18.56 5.44l.94 2.06.94-2.06 2.06-.94-2.06-.94-.94-2.06-.94 2.06-2.06.94zm-11 1L8.5 8.5l.94-2.06 2.06-.94-2.06-.94L8.5 2.5l-.94 2.06-2.06.94zm10 10l.94 2.06.94-2.06 2.06-.94-2.06-.94-.94-2.06-.94 2.06-2.06.94z\"/><path d=\"M17.41 7.96l-1.37-1.37c-.4-.4-.92-.59-1.43-.59-.52 0-1.04.2-1.43.59L10.3 9.45l-7.72 7.72c-.78.78-.78 2.05 0 2.83L4 21.41c.39.39.9.59 1.41.59.51 0 1.02-.2 1.41-.59l7.78-7.78 2.81-2.81c.8-.78.8-2.07 0-2.86zM5.41 20L4 18.59l7.72-7.72 1.47 1.35L5.41 20z\"/>\n",
              "  </svg>\n",
              "      </button>\n",
              "      \n",
              "  <style>\n",
              "    .colab-df-container {\n",
              "      display:flex;\n",
              "      flex-wrap:wrap;\n",
              "      gap: 12px;\n",
              "    }\n",
              "\n",
              "    .colab-df-convert {\n",
              "      background-color: #E8F0FE;\n",
              "      border: none;\n",
              "      border-radius: 50%;\n",
              "      cursor: pointer;\n",
              "      display: none;\n",
              "      fill: #1967D2;\n",
              "      height: 32px;\n",
              "      padding: 0 0 0 0;\n",
              "      width: 32px;\n",
              "    }\n",
              "\n",
              "    .colab-df-convert:hover {\n",
              "      background-color: #E2EBFA;\n",
              "      box-shadow: 0px 1px 2px rgba(60, 64, 67, 0.3), 0px 1px 3px 1px rgba(60, 64, 67, 0.15);\n",
              "      fill: #174EA6;\n",
              "    }\n",
              "\n",
              "    [theme=dark] .colab-df-convert {\n",
              "      background-color: #3B4455;\n",
              "      fill: #D2E3FC;\n",
              "    }\n",
              "\n",
              "    [theme=dark] .colab-df-convert:hover {\n",
              "      background-color: #434B5C;\n",
              "      box-shadow: 0px 1px 3px 1px rgba(0, 0, 0, 0.15);\n",
              "      filter: drop-shadow(0px 1px 2px rgba(0, 0, 0, 0.3));\n",
              "      fill: #FFFFFF;\n",
              "    }\n",
              "  </style>\n",
              "\n",
              "      <script>\n",
              "        const buttonEl =\n",
              "          document.querySelector('#df-f1be4a0c-5006-43e2-871b-ed48e1f68671 button.colab-df-convert');\n",
              "        buttonEl.style.display =\n",
              "          google.colab.kernel.accessAllowed ? 'block' : 'none';\n",
              "\n",
              "        async function convertToInteractive(key) {\n",
              "          const element = document.querySelector('#df-f1be4a0c-5006-43e2-871b-ed48e1f68671');\n",
              "          const dataTable =\n",
              "            await google.colab.kernel.invokeFunction('convertToInteractive',\n",
              "                                                     [key], {});\n",
              "          if (!dataTable) return;\n",
              "\n",
              "          const docLinkHtml = 'Like what you see? Visit the ' +\n",
              "            '<a target=\"_blank\" href=https://colab.research.google.com/notebooks/data_table.ipynb>data table notebook</a>'\n",
              "            + ' to learn more about interactive tables.';\n",
              "          element.innerHTML = '';\n",
              "          dataTable['output_type'] = 'display_data';\n",
              "          await google.colab.output.renderOutput(dataTable, element);\n",
              "          const docLink = document.createElement('div');\n",
              "          docLink.innerHTML = docLinkHtml;\n",
              "          element.appendChild(docLink);\n",
              "        }\n",
              "      </script>\n",
              "    </div>\n",
              "  </div>\n",
              "  "
            ]
          },
          "metadata": {},
          "execution_count": 11
        }
      ]
    },
    {
      "cell_type": "code",
      "source": [
        "BTC[BTC[\"R\"]>0.15].sort_values(by=['R'], ascending=False)\n",
        "r_bitcoin = pd.DataFrame(BTC[[\"R\"]])\n",
        "hist=r_bitcoin.plot.hist(bins=12,alpha=0.5,title=\"Histogram of daily Bitcoin Returns\")"
      ],
      "metadata": {
        "colab": {
          "base_uri": "https://localhost:8080/",
          "height": 281
        },
        "id": "gPUXs8Fa9FOZ",
        "outputId": "d4a7bfd7-8117-436e-eebc-70850c52d519"
      },
      "execution_count": 16,
      "outputs": [
        {
          "output_type": "display_data",
          "data": {
            "text/plain": [
              "<Figure size 432x288 with 1 Axes>"
            ],
            "image/png": "[encoded data removed]"
          },
          "metadata": {
            "needs_background": "light"
          }
        }
      ]
    },
    {
      "cell_type": "markdown",
      "source": [
        "EXPLICATION:\n",
        "THE BITCOIN IS PRESENTING MORE POSETIVE INCREMENATION ON HIS PRICES WHEN THE CHANGE IS SMALL ITS MORE PROBABLE TO HAVE A NEGATIVE CHANGE THAT A POSITIVE ONE."
      ],
      "metadata": {
        "id": "teOqQwPiJF2M"
      }
    },
    {
      "cell_type": "code",
      "source": [
        "print(\"The daily average return of Bitcoin is \", BTC[\"r\"].mean())\n",
        "print(\"The daily variance of Bitcoin is \", BTC[\"r\"].var())\n",
        "print(\"The daily standard deviation (volatility) of Bitcoin return is \", BTC[\"r\"].std())\n",
        "print(\"The daily median return of Bitcoin is \",BTC[\"r\"].median())"
      ],
      "metadata": {
        "colab": {
          "base_uri": "https://localhost:8080/"
        },
        "id": "7w9M28Gl9HsU",
        "outputId": "ae2b4b6c-5b55-4651-9c20-05009936b86b"
      },
      "execution_count": 13,
      "outputs": [
        {
          "output_type": "stream",
          "name": "stdout",
          "text": [
            "The daily average return of Bitcoin is  0.0015556007569352544\n",
            "The daily variance of Bitcoin is  0.0017372712473154484\n",
            "The daily standard deviation (volatility) of Bitcoin return is  0.041680585976152595\n",
            "The daily median return of Bitcoin is  0.0022173493980961467\n"
          ]
        }
      ]
    },
    {
      "cell_type": "code",
      "source": [
        "promedio=BTC[\"R\"].mean()\n",
        "Var=BTC[\"R\"].var()\n",
        "DVS=BTC[\"R\"].std()\n",
        "mediana=len(BTC.axes[0])\n",
        "\n",
        "\n",
        "from matplotlib import pyplot\n",
        "bins=10\n",
        "simulacion=np.random.normal(loc=promedio, scale=DVS, size=mediana)\n",
        "pyplot.hist(simulacion, bins, alpha=0.5, label=\"Simulated\", color=\"red\")\n",
        "pyplot.hist(r_bitcoin.to_numpy(), bins, alpha=0.5, label=\"Real\", color= \"pink\")\n",
        "pyplot.legend(loc=\"upper right\")\n",
        "pyplot.show()"
      ],
      "metadata": {
        "colab": {
          "base_uri": "https://localhost:8080/",
          "height": 265
        },
        "id": "RzZnJv6oC4Jp",
        "outputId": "bde7b404-3f50-484b-b7cb-511b8bc3ed0d"
      },
      "execution_count": 24,
      "outputs": [
        {
          "output_type": "display_data",
          "data": {
            "text/plain": [
              "<Figure size 432x288 with 1 Axes>"
            ],
            "image/png": "[encoded data removed]"
          },
          "metadata": {
            "needs_background": "light"
          }
        }
      ]
    },
    {
      "cell_type": "markdown",
      "source": [
        "EXPLICATION:\n",
        "THE DIFERENCE THAT I CAN NOTE IN SIMULATED VS REAL IS THAT IN THE REAL ONES THE DISTRIBUTION ARE MORE LOADED AT THE CENTER (BECAUSE IT´S NOT COMUNN THAT  THE BITCOIN PRICE CHANGE IN THOSE DAYS ) AND IN THE SILUTATED ARE MORE DRISTRIBUTED BY SCALE"
      ],
      "metadata": {
        "id": "jnzRZHXiGf3_"
      }
    }
  ]
}