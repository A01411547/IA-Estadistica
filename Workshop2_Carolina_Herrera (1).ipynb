{
  "nbformat": 4,
  "nbformat_minor": 0,
  "metadata": {
    "colab": {
      "name": "Workshop2 Carolina Herrera.ipynb",
      "provenance": [],
      "collapsed_sections": []
    },
    "kernelspec": {
      "name": "python3",
      "display_name": "Python 3"
    },
    "language_info": {
      "name": "python"
    }
  },
  "cells": [
    {
      "cell_type": "code",
      "execution_count": 1,
      "metadata": {
        "colab": {
          "base_uri": "https://localhost:8080/"
        },
        "id": "X1InkwsOs_ZW",
        "outputId": "1c8def8e-f440-4a40-af9e-a7c535048e58"
      },
      "outputs": [
        {
          "output_type": "stream",
          "name": "stdout",
          "text": [
            "Looking in indexes: https://pypi.org/simple, https://us-python.pkg.dev/colab-wheels/public/simple/\n",
            "Requirement already satisfied: pandas in /usr/local/lib/python3.7/dist-packages (1.3.5)\n",
            "Requirement already satisfied: pytz>=2017.3 in /usr/local/lib/python3.7/dist-packages (from pandas) (2022.1)\n",
            "Requirement already satisfied: numpy>=1.17.3 in /usr/local/lib/python3.7/dist-packages (from pandas) (1.21.6)\n",
            "Requirement already satisfied: python-dateutil>=2.7.3 in /usr/local/lib/python3.7/dist-packages (from pandas) (2.8.2)\n",
            "Requirement already satisfied: six>=1.5 in /usr/local/lib/python3.7/dist-packages (from python-dateutil>=2.7.3->pandas) (1.15.0)\n",
            "Looking in indexes: https://pypi.org/simple, https://us-python.pkg.dev/colab-wheels/public/simple/\n",
            "Collecting symbulate\n",
            "  Downloading symbulate-0.5.7-py3-none-any.whl (44 kB)\n",
            "\u001b[K     |████████████████████████████████| 44 kB 2.7 MB/s \n",
            "\u001b[?25hRequirement already satisfied: matplotlib in /usr/local/lib/python3.7/dist-packages (from symbulate) (3.2.2)\n",
            "Requirement already satisfied: numpy in /usr/local/lib/python3.7/dist-packages (from symbulate) (1.21.6)\n",
            "Requirement already satisfied: scipy in /usr/local/lib/python3.7/dist-packages (from symbulate) (1.7.3)\n",
            "Requirement already satisfied: pyparsing!=2.0.4,!=2.1.2,!=2.1.6,>=2.0.1 in /usr/local/lib/python3.7/dist-packages (from matplotlib->symbulate) (3.0.9)\n",
            "Requirement already satisfied: python-dateutil>=2.1 in /usr/local/lib/python3.7/dist-packages (from matplotlib->symbulate) (2.8.2)\n",
            "Requirement already satisfied: kiwisolver>=1.0.1 in /usr/local/lib/python3.7/dist-packages (from matplotlib->symbulate) (1.4.4)\n",
            "Requirement already satisfied: cycler>=0.10 in /usr/local/lib/python3.7/dist-packages (from matplotlib->symbulate) (0.11.0)\n",
            "Requirement already satisfied: typing-extensions in /usr/local/lib/python3.7/dist-packages (from kiwisolver>=1.0.1->matplotlib->symbulate) (4.1.1)\n",
            "Requirement already satisfied: six>=1.5 in /usr/local/lib/python3.7/dist-packages (from python-dateutil>=2.1->matplotlib->symbulate) (1.15.0)\n",
            "Installing collected packages: symbulate\n",
            "Successfully installed symbulate-0.5.7\n",
            "Looking in indexes: https://pypi.org/simple, https://us-python.pkg.dev/colab-wheels/public/simple/\n",
            "Requirement already satisfied: pandas-datareader in /usr/local/lib/python3.7/dist-packages (0.9.0)\n",
            "Collecting pandas-datareader\n",
            "  Downloading pandas_datareader-0.10.0-py3-none-any.whl (109 kB)\n",
            "\u001b[K     |████████████████████████████████| 109 kB 16.5 MB/s \n",
            "\u001b[?25hRequirement already satisfied: requests>=2.19.0 in /usr/local/lib/python3.7/dist-packages (from pandas-datareader) (2.23.0)\n",
            "Requirement already satisfied: pandas>=0.23 in /usr/local/lib/python3.7/dist-packages (from pandas-datareader) (1.3.5)\n",
            "Requirement already satisfied: lxml in /usr/local/lib/python3.7/dist-packages (from pandas-datareader) (4.9.1)\n",
            "Requirement already satisfied: pytz>=2017.3 in /usr/local/lib/python3.7/dist-packages (from pandas>=0.23->pandas-datareader) (2022.1)\n",
            "Requirement already satisfied: python-dateutil>=2.7.3 in /usr/local/lib/python3.7/dist-packages (from pandas>=0.23->pandas-datareader) (2.8.2)\n",
            "Requirement already satisfied: numpy>=1.17.3 in /usr/local/lib/python3.7/dist-packages (from pandas>=0.23->pandas-datareader) (1.21.6)\n",
            "Requirement already satisfied: six>=1.5 in /usr/local/lib/python3.7/dist-packages (from python-dateutil>=2.7.3->pandas>=0.23->pandas-datareader) (1.15.0)\n",
            "Requirement already satisfied: certifi>=2017.4.17 in /usr/local/lib/python3.7/dist-packages (from requests>=2.19.0->pandas-datareader) (2022.6.15)\n",
            "Requirement already satisfied: chardet<4,>=3.0.2 in /usr/local/lib/python3.7/dist-packages (from requests>=2.19.0->pandas-datareader) (3.0.4)\n",
            "Requirement already satisfied: urllib3!=1.25.0,!=1.25.1,<1.26,>=1.21.1 in /usr/local/lib/python3.7/dist-packages (from requests>=2.19.0->pandas-datareader) (1.24.3)\n",
            "Requirement already satisfied: idna<3,>=2.5 in /usr/local/lib/python3.7/dist-packages (from requests>=2.19.0->pandas-datareader) (2.10)\n",
            "Installing collected packages: pandas-datareader\n",
            "  Attempting uninstall: pandas-datareader\n",
            "    Found existing installation: pandas-datareader 0.9.0\n",
            "    Uninstalling pandas-datareader-0.9.0:\n",
            "      Successfully uninstalled pandas-datareader-0.9.0\n",
            "Successfully installed pandas-datareader-0.10.0\n"
          ]
        }
      ],
      "source": [
        "!pip install --upgrade pandas\n",
        "!pip install symbulate\n",
        "!pip install --upgrade pandas-datareader\n",
        "import numpy as np\n",
        "import pandas as pd\n",
        "import pandas_datareader as pdr\n",
        "\n"
      ]
    },
    {
      "cell_type": "code",
      "source": [
        "from symbulate import *\n",
        "#'exec(%matplotlib inline)' \n",
        "import matplotlib\n",
        "\n",
        "import matplotlib.pyplot as plt"
      ],
      "metadata": {
        "id": "Oquz-PnetDYz"
      },
      "execution_count": 2,
      "outputs": []
    },
    {
      "cell_type": "code",
      "source": [
        "# clear the plot space:\n",
        "plt.clf()\n",
        "# Define the probability type of function as uniform (probability space)\n",
        "P = Uniform(0,40)\n",
        "# Define X as a random variable of the type P (uniform)\n",
        "X =RV(P)\n",
        "# Simulate the values of X and save the in the x array: \n",
        "x=X.sim(10000)\n",
        "x.plot()\n",
        "plt.show()"
      ],
      "metadata": {
        "colab": {
          "base_uri": "https://localhost:8080/",
          "height": 265
        },
        "id": "ouey9TbWtGDu",
        "outputId": "695a196b-5d44-48b8-b94b-33268de4b784"
      },
      "execution_count": 3,
      "outputs": [
        {
          "output_type": "display_data",
          "data": {
            "text/plain": [
              "<Figure size 432x288 with 1 Axes>"
            ],
            "image/png": "[encoded data removed]"
          },
          "metadata": {
            "needs_background": "light"
          }
        }
      ]
    },
    {
      "cell_type": "code",
      "source": [
        "print(x.std())\n",
        "print(x.mean())"
      ],
      "metadata": {
        "colab": {
          "base_uri": "https://localhost:8080/"
        },
        "id": "0DH31yqD07JN",
        "outputId": "bb7e5bae-f69b-46da-bded-1be774cb1fc7"
      },
      "execution_count": 4,
      "outputs": [
        {
          "output_type": "stream",
          "name": "stdout",
          "text": [
            "11.460896918525327\n",
            "20.19386549053971\n"
          ]
        }
      ]
    },
    {
      "cell_type": "markdown",
      "source": [
        "WHAT I CAN SEE IN THE HISTOGRAM IS THAT IT WOULD HAVE A BIG PROBABILITY TO HAVE THE SAME OF NUMBERS BECAUSE IT HAVE A UNIFORM DISTRIBUTION."
      ],
      "metadata": {
        "id": "wxO-xXyD0uvV"
      }
    },
    {
      "cell_type": "code",
      "source": [
        "# Define the probability space as a vector of 25 uniform random numbers:\n",
        "P = Uniform(0,40) ** 25\n",
        "# Define XVECTOR as a vector of random variables with 25 random values \n",
        "XVECTOR =RV(P)\n",
        "# Simulate 10,000 vectors to get a matrix  \n",
        "xmatrix=XVECTOR.sim(10000)"
      ],
      "metadata": {
        "id": "CIx-R8ZftIDf"
      },
      "execution_count": 5,
      "outputs": []
    },
    {
      "cell_type": "code",
      "source": [
        "xmatrix"
      ],
      "metadata": {
        "colab": {
          "base_uri": "https://localhost:8080/",
          "height": 270
        },
        "id": "IJFdPMs4tKcR",
        "outputId": "26bfeeea-cdc7-4f92-b17f-76b545fe78f3"
      },
      "execution_count": 6,
      "outputs": [
        {
          "output_type": "execute_result",
          "data": {
            "text/plain": [
              "Index Result\n",
              "0     (21.338340955653653, 0.9248426386247388, 3.644598179730232, 38.281418928217185, 37.53440537927548, ..., 37.237711622196805)\n",
              "1     (7.2392393859427795, 3.5312102609968443, 39.11148214032027, 33.42938181965615, 27.907571540066506, ..., 37.72825024140891)\n",
              "2     (10.341899443722134, 12.489339002067258, 27.14374529127637, 26.541216154043337, 9.25496939350705, ..., 36.94516981858267)\n",
              "3     (5.735200239446656, 37.13524830891276, 25.12889254481661, 39.37919150492591, 12.810900665931682, ..., 34.30733179827349)\n",
              "4     (32.551180719469734, 18.49632351285107, 11.287066840891814, 2.8801544582432204, 10.714951436703668, ..., 14.427439175791932)\n",
              "5     (26.560052190756757, 0.7165594464980085, 19.69232209811021, 15.737746134100913, 9.385897826825476, ..., 37.51391697266108)\n",
              "6     (1.8618959830608395, 35.846843693422976, 11.409233338903322, 33.65294933201143, 16.826955944551734, ..., 3.5214716574411575)\n",
              "7     (0.9641240389223427, 31.585943667713487, 0.43860426993594714, 29.388821686430223, 29.072686753454708, ..., 33.83481319710798)\n",
              "8     (8.611821097308177, 25.432981808670352, 3.4055313330322656, 24.602029530811194, 39.58824335299817, ..., 13.09034883945385)\n",
              "....  ..........................................................................................................................\n",
              "9999  (26.792954695227028, 31.427864290604795, 0.48516124264720073, 7.22842036989086, 5.745587605363025, ..., 26.58650710073669)"
            ],
            "text/html": [
              "\n",
              "    <table>\n",
              "      <thead>\n",
              "        <th width=\"10%\">Index</th>\n",
              "        <th width=\"90%\">Result</th>\n",
              "      </thead>\n",
              "      <tbody>\n",
              "        \n",
              "        <tr>\n",
              "          <td>0</td><td>(21.338340955653653, 0.9248426386247388, 3.644598179730232, 38.281418928217185, 37.53440537927548, ....</td>\n",
              "        </tr>\n",
              "        \n",
              "        <tr>\n",
              "          <td>1</td><td>(7.2392393859427795, 3.5312102609968443, 39.11148214032027, 33.42938181965615, 27.907571540066506, ....</td>\n",
              "        </tr>\n",
              "        \n",
              "        <tr>\n",
              "          <td>2</td><td>(10.341899443722134, 12.489339002067258, 27.14374529127637, 26.541216154043337, 9.25496939350705, .....</td>\n",
              "        </tr>\n",
              "        \n",
              "        <tr>\n",
              "          <td>3</td><td>(5.735200239446656, 37.13524830891276, 25.12889254481661, 39.37919150492591, 12.810900665931682, ......</td>\n",
              "        </tr>\n",
              "        \n",
              "        <tr>\n",
              "          <td>4</td><td>(32.551180719469734, 18.49632351285107, 11.287066840891814, 2.8801544582432204, 10.714951436703668, ...</td>\n",
              "        </tr>\n",
              "        \n",
              "        <tr>\n",
              "          <td>5</td><td>(26.560052190756757, 0.7165594464980085, 19.69232209811021, 15.737746134100913, 9.385897826825476, ....</td>\n",
              "        </tr>\n",
              "        \n",
              "        <tr>\n",
              "          <td>6</td><td>(1.8618959830608395, 35.846843693422976, 11.409233338903322, 33.65294933201143, 16.826955944551734, ...</td>\n",
              "        </tr>\n",
              "        \n",
              "        <tr>\n",
              "          <td>7</td><td>(0.9641240389223427, 31.585943667713487, 0.43860426993594714, 29.388821686430223, 29.072686753454708...</td>\n",
              "        </tr>\n",
              "        \n",
              "        <tr>\n",
              "          <td>8</td><td>(8.611821097308177, 25.432981808670352, 3.4055313330322656, 24.602029530811194, 39.58824335299817, ....</td>\n",
              "        </tr>\n",
              "        <tr><td>...</td><td>...</td></tr>\n",
              "        <tr>\n",
              "          <td>9999</td><td>(26.792954695227028, 31.427864290604795, 0.48516124264720073, 7.22842036989086, 5.745587605363025, ....</td>\n",
              "        </tr>\n",
              "        \n",
              "      </tbody>\n",
              "    </table>\n",
              "        "
            ]
          },
          "metadata": {},
          "execution_count": 6
        }
      ]
    },
    {
      "cell_type": "code",
      "source": [
        "# The 2nd parameter is the mathematical operation applied to each row of the random vector\n",
        "# Simulate 10,000 means of each random vector of 25 uniform distributed numbers: \n",
        "xmean = RV(P,mean).sim(10000)\n",
        "xmean"
      ],
      "metadata": {
        "colab": {
          "base_uri": "https://localhost:8080/",
          "height": 270
        },
        "id": "XfUhaEWGtMTJ",
        "outputId": "cc367895-e992-4c40-f327-1c9956288872"
      },
      "execution_count": 7,
      "outputs": [
        {
          "output_type": "execute_result",
          "data": {
            "text/plain": [
              "Index Result\n",
              "0     19.986212963120824\n",
              "1     16.131521278511958\n",
              "2     20.65599236211075\n",
              "3     19.211402148791564\n",
              "4     21.995057763852255\n",
              "5     21.35023595147803\n",
              "6     19.970203713231466\n",
              "7     23.599522234962635\n",
              "8     22.37232450671852\n",
              "....  ..................\n",
              "9999  21.127971507166222"
            ],
            "text/html": [
              "\n",
              "    <table>\n",
              "      <thead>\n",
              "        <th width=\"10%\">Index</th>\n",
              "        <th width=\"90%\">Result</th>\n",
              "      </thead>\n",
              "      <tbody>\n",
              "        \n",
              "        <tr>\n",
              "          <td>0</td><td>19.986212963120824</td>\n",
              "        </tr>\n",
              "        \n",
              "        <tr>\n",
              "          <td>1</td><td>16.131521278511958</td>\n",
              "        </tr>\n",
              "        \n",
              "        <tr>\n",
              "          <td>2</td><td>20.65599236211075</td>\n",
              "        </tr>\n",
              "        \n",
              "        <tr>\n",
              "          <td>3</td><td>19.211402148791564</td>\n",
              "        </tr>\n",
              "        \n",
              "        <tr>\n",
              "          <td>4</td><td>21.995057763852255</td>\n",
              "        </tr>\n",
              "        \n",
              "        <tr>\n",
              "          <td>5</td><td>21.35023595147803</td>\n",
              "        </tr>\n",
              "        \n",
              "        <tr>\n",
              "          <td>6</td><td>19.970203713231466</td>\n",
              "        </tr>\n",
              "        \n",
              "        <tr>\n",
              "          <td>7</td><td>23.599522234962635</td>\n",
              "        </tr>\n",
              "        \n",
              "        <tr>\n",
              "          <td>8</td><td>22.37232450671852</td>\n",
              "        </tr>\n",
              "        <tr><td>...</td><td>...</td></tr>\n",
              "        <tr>\n",
              "          <td>9999</td><td>21.127971507166222</td>\n",
              "        </tr>\n",
              "        \n",
              "      </tbody>\n",
              "    </table>\n",
              "        "
            ]
          },
          "metadata": {},
          "execution_count": 7
        }
      ]
    },
    {
      "cell_type": "code",
      "source": [
        "plt.clf()\n",
        "xmean.plot()\n",
        "plt.show()"
      ],
      "metadata": {
        "colab": {
          "base_uri": "https://localhost:8080/",
          "height": 265
        },
        "id": "jSpJtsratPjy",
        "outputId": "4683a431-e11a-4d3a-b399-10cf9828af51"
      },
      "execution_count": 8,
      "outputs": [
        {
          "output_type": "display_data",
          "data": {
            "text/plain": [
              "<Figure size 432x288 with 1 Axes>"
            ],
            "image/png": "[encoded data removed]"
          },
          "metadata": {
            "needs_background": "light"
          }
        }
      ]
    },
    {
      "cell_type": "code",
      "source": [
        "print (xmean.std()) \n",
        "print (xmean.mean())"
      ],
      "metadata": {
        "colab": {
          "base_uri": "https://localhost:8080/"
        },
        "id": "YyqsaiKz9n0u",
        "outputId": "1f37db4d-3802-4cf0-8609-11319af28812"
      },
      "execution_count": 9,
      "outputs": [
        {
          "output_type": "stream",
          "name": "stdout",
          "text": [
            "2.31170906525663\n",
            "19.9815165440417\n"
          ]
        }
      ]
    },
    {
      "cell_type": "markdown",
      "source": [
        "1.- THE MEAN IS ALMOST EQUAL\n",
        "2.- WHAT I CAN SEE IN THE HISTROGRAM IS THAT IT DOESN'T HAVE A UNIFORM DISTRIBUTION BECAUSE THE PROBABILITY CHANGES WHEN THE NUMBERS GET CLOSE TO THE CENTER."
      ],
      "metadata": {
        "id": "T1y34mE3-m5M"
      }
    },
    {
      "cell_type": "code",
      "source": [
        "plt.clf()\n",
        "xmean.plot()\n",
        "x.plot()\n",
        "plt.show()"
      ],
      "metadata": {
        "colab": {
          "base_uri": "https://localhost:8080/",
          "height": 265
        },
        "id": "Uinx8GHDtR3e",
        "outputId": "358eb6ff-564f-4d2a-afa9-6c0d3c2c3129"
      },
      "execution_count": 10,
      "outputs": [
        {
          "output_type": "display_data",
          "data": {
            "text/plain": [
              "<Figure size 432x288 with 1 Axes>"
            ],
            "image/png": "[encoded data removed]"
          },
          "metadata": {
            "needs_background": "light"
          }
        }
      ]
    },
    {
      "cell_type": "markdown",
      "source": [
        "WHAT I SEE IN THIS HISTOGRAM IS THAT THE DISTRIBUTION ABOUT \"x\" AND \"Y\" ARE DIFFERENT, IN \"X\" THE DISTRIBUTION IS UNIFORM AND IN \"Y\" NOT."
      ],
      "metadata": {
        "id": "_XW9g10U_rn1"
      }
    },
    {
      "cell_type": "code",
      "source": [
        "# clear the plot space:\n",
        "plt.clf()\n",
        "# Define the probability type of function as uniform (probability space)\n",
        "P = Normal(mean=20, sd=10)\n",
        "# Define Y as a random variable of the type P (normal)\n",
        "Y =RV(P)\n",
        "# Simulate 10,000 values of Y and save the in the x array: \n",
        "y=Y.sim(10000)\n",
        "y.plot()\n",
        "plt.show()"
      ],
      "metadata": {
        "colab": {
          "base_uri": "https://localhost:8080/",
          "height": 265
        },
        "id": "upMXvwnXtVaz",
        "outputId": "97fbdad8-96e8-4aa6-d262-08c484705466"
      },
      "execution_count": 11,
      "outputs": [
        {
          "output_type": "display_data",
          "data": {
            "text/plain": [
              "<Figure size 432x288 with 1 Axes>"
            ],
            "image/png": "[encoded data removed]"
          },
          "metadata": {
            "needs_background": "light"
          }
        }
      ]
    },
    {
      "cell_type": "code",
      "source": [
        "print (y.mean())\n",
        "print (y.std())"
      ],
      "metadata": {
        "colab": {
          "base_uri": "https://localhost:8080/"
        },
        "id": "n0xjbvwNAIPr",
        "outputId": "bace1d75-3106-458f-d804-e9293ed036f1"
      },
      "execution_count": null,
      "outputs": [
        {
          "output_type": "stream",
          "name": "stdout",
          "text": [
            "19.913509379964495\n",
            "10.052470999736546\n"
          ]
        }
      ]
    },
    {
      "cell_type": "markdown",
      "source": [
        "1.- THE VALUES ARE THE SAME.\n",
        "2.- WHAT I CANN SEE IN THE HISTOGRAM IS THAT IT DOESN'T HAVE A UNIFORM DISFTRIBUTION, IT HAS A NORMAL ONE."
      ],
      "metadata": {
        "id": "SEhrJ4a7ARqS"
      }
    },
    {
      "cell_type": "code",
      "source": [
        "# Define the probability space P as a vector of 25 normal random numbers:\n",
        "P = Normal(mean=20, sd=10) ** 25\n",
        "# Define RANDOMVECTOR as a vector of 25 random variables in the Probability space P \n",
        "RANDOMVECTOR = RV(P)\n",
        "# Simulate 10,000 random vectors with this distribution and save the in ymatrix: \n",
        "ymatrix=RANDOMVECTOR.sim(10000)"
      ],
      "metadata": {
        "id": "SAHR5EAGtXhM"
      },
      "execution_count": 12,
      "outputs": []
    },
    {
      "cell_type": "code",
      "source": [
        "ymatrix"
      ],
      "metadata": {
        "colab": {
          "base_uri": "https://localhost:8080/",
          "height": 270
        },
        "id": "SQ0zVDGXtaJT",
        "outputId": "2a69d1b5-9607-4e3c-df60-d658e366e857"
      },
      "execution_count": 13,
      "outputs": [
        {
          "output_type": "execute_result",
          "data": {
            "text/plain": [
              "Index Result\n",
              "0     (9.881593363844342, 26.36474060826518, 10.67056557053184, 25.181251093932683, 32.131876886686506, ..., 10.33505635305644)\n",
              "1     (23.82157615166465, 40.460755448528765, 13.290717570599101, 20.897834998951453, 22.31561105740419, ..., 17.903795358845418)\n",
              "2     (12.706668091533366, 19.035139210812524, 28.56630483820304, 28.914736786516016, 0.013921746047977024, ..., 14.002051414868207)\n",
              "3     (12.080204110608864, 25.309207871289694, 24.180951177119987, 21.685636919504784, 27.748786119596303, ..., 20.176131617087236)\n",
              "4     (12.691772128925006, 25.43957769130973, 30.424830148545244, 18.78204092325275, 30.937636757409976, ..., 4.887101633955542)\n",
              "5     (20.898834477421282, 35.83099254543713, 12.572739778195443, 24.547289758603522, 38.44652868421992, ..., -4.806873280845174)\n",
              "6     (13.237822070380323, 9.193367810610793, 16.941962269421335, 25.5437260125681, 21.23997069281643, ..., 19.627533764161207)\n",
              "7     (36.09504332633771, 11.503280805574377, 5.119501026444166, 25.94753023212247, 23.998118171302732, ..., 24.239853881093648)\n",
              "8     (27.921081226191966, 15.174061900881735, 27.23057312469389, 12.534911130231343, 21.874973760911303, ..., 8.1981244100473)\n",
              "....  ........................................................................................................................\n",
              "9999  (18.5582711636318, 28.74409020700236, 19.84557866934524, 16.47743579484913, 30.617648561217774, ..., 22.819755894949452)"
            ],
            "text/html": [
              "\n",
              "    <table>\n",
              "      <thead>\n",
              "        <th width=\"10%\">Index</th>\n",
              "        <th width=\"90%\">Result</th>\n",
              "      </thead>\n",
              "      <tbody>\n",
              "        \n",
              "        <tr>\n",
              "          <td>0</td><td>(9.881593363844342, 26.36474060826518, 10.67056557053184, 25.181251093932683, 32.131876886686506, .....</td>\n",
              "        </tr>\n",
              "        \n",
              "        <tr>\n",
              "          <td>1</td><td>(23.82157615166465, 40.460755448528765, 13.290717570599101, 20.897834998951453, 22.31561105740419, ....</td>\n",
              "        </tr>\n",
              "        \n",
              "        <tr>\n",
              "          <td>2</td><td>(12.706668091533366, 19.035139210812524, 28.56630483820304, 28.914736786516016, 0.013921746047977024...</td>\n",
              "        </tr>\n",
              "        \n",
              "        <tr>\n",
              "          <td>3</td><td>(12.080204110608864, 25.309207871289694, 24.180951177119987, 21.685636919504784, 27.748786119596303,...</td>\n",
              "        </tr>\n",
              "        \n",
              "        <tr>\n",
              "          <td>4</td><td>(12.691772128925006, 25.43957769130973, 30.424830148545244, 18.78204092325275, 30.937636757409976, ....</td>\n",
              "        </tr>\n",
              "        \n",
              "        <tr>\n",
              "          <td>5</td><td>(20.898834477421282, 35.83099254543713, 12.572739778195443, 24.547289758603522, 38.44652868421992, ....</td>\n",
              "        </tr>\n",
              "        \n",
              "        <tr>\n",
              "          <td>6</td><td>(13.237822070380323, 9.193367810610793, 16.941962269421335, 25.5437260125681, 21.23997069281643, ......</td>\n",
              "        </tr>\n",
              "        \n",
              "        <tr>\n",
              "          <td>7</td><td>(36.09504332633771, 11.503280805574377, 5.119501026444166, 25.94753023212247, 23.998118171302732, .....</td>\n",
              "        </tr>\n",
              "        \n",
              "        <tr>\n",
              "          <td>8</td><td>(27.921081226191966, 15.174061900881735, 27.23057312469389, 12.534911130231343, 21.874973760911303, ...</td>\n",
              "        </tr>\n",
              "        <tr><td>...</td><td>...</td></tr>\n",
              "        <tr>\n",
              "          <td>9999</td><td>(18.5582711636318, 28.74409020700236, 19.84557866934524, 16.47743579484913, 30.617648561217774, ...,...</td>\n",
              "        </tr>\n",
              "        \n",
              "      </tbody>\n",
              "    </table>\n",
              "        "
            ]
          },
          "metadata": {},
          "execution_count": 13
        }
      ]
    },
    {
      "cell_type": "code",
      "source": [
        "# The 2nd parameter is the mathematical operation applied to each row of the random vector\n",
        "# Simulate 10,000 means of each random vector of 25 uniform distributed numbers: \n",
        "ymean = RV(P,mean).sim(10000)\n",
        "ymean"
      ],
      "metadata": {
        "colab": {
          "base_uri": "https://localhost:8080/",
          "height": 270
        },
        "id": "IwgL3xq_tb_b",
        "outputId": "302380e8-4418-47a8-fb84-f4a5ecb3c600"
      },
      "execution_count": 15,
      "outputs": [
        {
          "output_type": "execute_result",
          "data": {
            "text/plain": [
              "Index Result\n",
              "0     18.38924497979104\n",
              "1     17.736765455406942\n",
              "2     19.51537767995778\n",
              "3     22.57502235385057\n",
              "4     20.76487506443966\n",
              "5     22.14593471072676\n",
              "6     20.709135644650488\n",
              "7     18.291031552221956\n",
              "8     20.94167170898287\n",
              "....  ..................\n",
              "9999  18.355941080938262"
            ],
            "text/html": [
              "\n",
              "    <table>\n",
              "      <thead>\n",
              "        <th width=\"10%\">Index</th>\n",
              "        <th width=\"90%\">Result</th>\n",
              "      </thead>\n",
              "      <tbody>\n",
              "        \n",
              "        <tr>\n",
              "          <td>0</td><td>18.38924497979104</td>\n",
              "        </tr>\n",
              "        \n",
              "        <tr>\n",
              "          <td>1</td><td>17.736765455406942</td>\n",
              "        </tr>\n",
              "        \n",
              "        <tr>\n",
              "          <td>2</td><td>19.51537767995778</td>\n",
              "        </tr>\n",
              "        \n",
              "        <tr>\n",
              "          <td>3</td><td>22.57502235385057</td>\n",
              "        </tr>\n",
              "        \n",
              "        <tr>\n",
              "          <td>4</td><td>20.76487506443966</td>\n",
              "        </tr>\n",
              "        \n",
              "        <tr>\n",
              "          <td>5</td><td>22.14593471072676</td>\n",
              "        </tr>\n",
              "        \n",
              "        <tr>\n",
              "          <td>6</td><td>20.709135644650488</td>\n",
              "        </tr>\n",
              "        \n",
              "        <tr>\n",
              "          <td>7</td><td>18.291031552221956</td>\n",
              "        </tr>\n",
              "        \n",
              "        <tr>\n",
              "          <td>8</td><td>20.94167170898287</td>\n",
              "        </tr>\n",
              "        <tr><td>...</td><td>...</td></tr>\n",
              "        <tr>\n",
              "          <td>9999</td><td>18.355941080938262</td>\n",
              "        </tr>\n",
              "        \n",
              "      </tbody>\n",
              "    </table>\n",
              "        "
            ]
          },
          "metadata": {},
          "execution_count": 15
        }
      ]
    },
    {
      "cell_type": "code",
      "source": [
        "plt.clf()\n",
        "ymean.plot()\n",
        "plt.show()"
      ],
      "metadata": {
        "colab": {
          "base_uri": "https://localhost:8080/",
          "height": 265
        },
        "id": "HDCP_nDXteQX",
        "outputId": "aa194797-3b13-4847-e882-c2776e56b52d"
      },
      "execution_count": 16,
      "outputs": [
        {
          "output_type": "display_data",
          "data": {
            "text/plain": [
              "<Figure size 432x288 with 1 Axes>"
            ],
            "image/png": "[encoded data removed]"
          },
          "metadata": {
            "needs_background": "light"
          }
        }
      ]
    },
    {
      "cell_type": "code",
      "source": [
        "print (ymean.std())\n",
        "print (ymean.mean())"
      ],
      "metadata": {
        "colab": {
          "base_uri": "https://localhost:8080/"
        },
        "id": "FMAjD-PSDp08",
        "outputId": "13d76603-e149-4855-e249-00ff103d3ac6"
      },
      "execution_count": 18,
      "outputs": [
        {
          "output_type": "stream",
          "name": "stdout",
          "text": [
            "1.9767453021653292\n",
            "19.965302992446993\n"
          ]
        }
      ]
    },
    {
      "cell_type": "markdown",
      "source": [
        "THE MEAN IS EQUALLY."
      ],
      "metadata": {
        "id": "VNGZxWRpEFOb"
      }
    },
    {
      "cell_type": "code",
      "source": [
        "plt.clf()\n",
        "ymean.plot()\n",
        "y.plot()\n",
        "plt.show()"
      ],
      "metadata": {
        "colab": {
          "base_uri": "https://localhost:8080/",
          "height": 265
        },
        "id": "H-Y8TTCftgXv",
        "outputId": "b2f07f30-985d-466b-e00d-63bce11e03e4"
      },
      "execution_count": 17,
      "outputs": [
        {
          "output_type": "display_data",
          "data": {
            "text/plain": [
              "<Figure size 432x288 with 1 Axes>"
            ],
            "image/png": "[encoded data removed]"
          },
          "metadata": {
            "needs_background": "light"
          }
        }
      ]
    },
    {
      "cell_type": "markdown",
      "source": [
        "THE BLUE ONE HAS LESS NUMBERS SO VISUALLY ARE MORE NOTABLE.\n",
        "THE ORANGE HAS MORE NUMBERS SO EACH NUMBERS HAS SMALLER DENSITY "
      ],
      "metadata": {
        "id": "e_fTqZXJBY36"
      }
    },
    {
      "cell_type": "markdown",
      "source": [
        "WHEN THE DATAS ARE BIGGER THEY WOULD HAVE A NORMAL DISTRIBUTION (CLT)"
      ],
      "metadata": {
        "id": "7uK1sWD3Em-k"
      }
    },
    {
      "cell_type": "markdown",
      "source": [
        "4.- CHALLENGE\n"
      ],
      "metadata": {
        "id": "hN4CO_i9IfED"
      }
    },
    {
      "cell_type": "code",
      "source": [
        "import numpy as np\n",
        "import pandas as pd\n",
        "import pandas_datareader as pdr\n",
        "\n",
        "MSFT = pdr.get_data_yahoo('MSFT',\n",
        "start=\"01/01/2017\", interval=\"m\")\n",
        "MSFT[\"r\"]=(np.log(MSFT[\"Adj Close\"])- np.log (MSFT[\"Adj Close\"].shift(1)))\n"
      ],
      "metadata": {
        "id": "_L1GoIjHIi07"
      },
      "execution_count": 19,
      "outputs": []
    },
    {
      "cell_type": "code",
      "source": [
        "print (MSFT)"
      ],
      "metadata": {
        "colab": {
          "base_uri": "https://localhost:8080/"
        },
        "id": "zzAkBChgJI-2",
        "outputId": "b284df8f-412b-4ca8-817f-7db54bfc3b60"
      },
      "execution_count": null,
      "outputs": [
        {
          "output_type": "stream",
          "name": "stdout",
          "text": [
            "                  High         Low        Open       Close       Volume  \\\n",
            "Date                                                                      \n",
            "2017-01-01   65.910004   61.950001   62.790001   64.650002  493453500.0   \n",
            "2017-02-01   65.239998   62.750000   64.360001   63.980000  440744000.0   \n",
            "2017-03-01   66.190002   63.619999   64.129997   65.860001  489169700.0   \n",
            "2017-04-01   69.139999   64.849998   65.809998   68.459999  433191200.0   \n",
            "2017-05-01   70.739998   67.139999   68.680000   69.839996  517218500.0   \n",
            "...                ...         ...         ...         ...          ...   \n",
            "2022-05-01  290.880005  246.440002  277.709991  271.869995  742902000.0   \n",
            "2022-06-01  277.690002  241.509995  275.200012  256.829987  621372300.0   \n",
            "2022-07-01  282.000000  245.940002  256.390015  280.739990  534868400.0   \n",
            "2022-08-01  291.910004  272.380005  277.820007  291.910004  212179300.0   \n",
            "2022-08-12  291.910004  286.940002  288.480011  291.910004   22619675.0   \n",
            "\n",
            "             Adj Close  \n",
            "Date                    \n",
            "2017-01-01   59.846733  \n",
            "2017-02-01   59.226517  \n",
            "2017-03-01   61.336445  \n",
            "2017-04-01   63.757874  \n",
            "2017-05-01   65.043068  \n",
            "...                ...  \n",
            "2022-05-01  271.238251  \n",
            "2022-06-01  256.829987  \n",
            "2022-07-01  280.739990  \n",
            "2022-08-01  291.910004  \n",
            "2022-08-12  291.910004  \n",
            "\n",
            "[69 rows x 6 columns]\n"
          ]
        }
      ]
    },
    {
      "cell_type": "markdown",
      "source": [
        "THE NULL HYPOTHESIS IS THAT THE RETURNS OF MSFT ARE BIGGER THAN ZERO.\n",
        "THE ALTERNATIVE HYPOTHESIS ARE SMALLER THAN ZERO."
      ],
      "metadata": {
        "id": "cFctd0R4J_8i"
      }
    },
    {
      "cell_type": "code",
      "source": [
        "print (MSFT.std())\n",
        "MSFT_MEAN = MSFT['r'].mean()\n",
        "MSFT_STD= MSFT ['r'].std()"
      ],
      "metadata": {
        "colab": {
          "base_uri": "https://localhost:8080/"
        },
        "id": "tJUHViBSKYl-",
        "outputId": "3cf7c328-3332-44fa-c86e-46bb7fb13af4"
      },
      "execution_count": 22,
      "outputs": [
        {
          "output_type": "stream",
          "name": "stdout",
          "text": [
            "High         8.867530e+01\n",
            "Low          7.860650e+01\n",
            "Open         8.466062e+01\n",
            "Close        8.466927e+01\n",
            "Volume       2.054835e+08\n",
            "Adj Close    8.594573e+01\n",
            "r            5.413234e-02\n",
            "dtype: float64\n"
          ]
        }
      ]
    },
    {
      "cell_type": "code",
      "source": [
        "MSFT_std_grouped= MSFT_STD / math.sqrt (60)"
      ],
      "metadata": {
        "id": "RlPklY6Jdta2"
      },
      "execution_count": 23,
      "outputs": []
    },
    {
      "cell_type": "code",
      "source": [
        "t_value= (MSFT_MEAN -0) / MSFT_std_grouped\n",
        "t_value"
      ],
      "metadata": {
        "colab": {
          "base_uri": "https://localhost:8080/"
        },
        "id": "3p96jJwgd5Nw",
        "outputId": "ab547cb6-7828-4657-fd5a-88bfa81964dc"
      },
      "execution_count": 24,
      "outputs": [
        {
          "output_type": "execute_result",
          "data": {
            "text/plain": [
              "3.3458303171504373"
            ]
          },
          "metadata": {},
          "execution_count": 24
        }
      ]
    },
    {
      "cell_type": "code",
      "source": [
        "min_ci = MSFT_MEAN - 2 * (MSFT_std_grouped)\n",
        "min_ci"
      ],
      "metadata": {
        "colab": {
          "base_uri": "https://localhost:8080/"
        },
        "id": "ONGuJgaceLZa",
        "outputId": "3d0df6e5-6d59-4af7-c629-2d45523180d5"
      },
      "execution_count": 25,
      "outputs": [
        {
          "output_type": "execute_result",
          "data": {
            "text/plain": [
              "0.009405274377105002"
            ]
          },
          "metadata": {},
          "execution_count": 25
        }
      ]
    },
    {
      "cell_type": "code",
      "source": [
        "max_ci =MSFT_MEAN + 2 * (MSFT_std_grouped)\n",
        "max_ci"
      ],
      "metadata": {
        "colab": {
          "base_uri": "https://localhost:8080/"
        },
        "id": "xikgXw79eZ2d",
        "outputId": "dfb90630-a397-4be6-c5a3-b94c98778764"
      },
      "execution_count": 26,
      "outputs": [
        {
          "output_type": "execute_result",
          "data": {
            "text/plain": [
              "0.03735909368775642"
            ]
          },
          "metadata": {},
          "execution_count": 26
        }
      ]
    },
    {
      "cell_type": "markdown",
      "source": [
        "t-Test:\n",
        "We can confirm that the alternative hyphotesis is true."
      ],
      "metadata": {
        "id": "nQN0aIWKekJ2"
      }
    }
  ]
}